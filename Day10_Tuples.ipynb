{
 "cells": [
  {
   "cell_type": "markdown",
   "id": "e057c7d4-4ef7-4db9-96d4-5962c0c34455",
   "metadata": {},
   "source": [
    "# TUPLES IN PYTHON"
   ]
  },
  {
   "cell_type": "markdown",
   "id": "8b970523-4db0-4470-8247-d8d36f73dc16",
   "metadata": {},
   "source": [
    "A tuple in python is an immutable ordered collection of elements.It is similar to a list and can store a variety of data types, including number, strings and other objects. However,unlike lists,tuples cannot be modified once they are created."
   ]
  },
  {
   "cell_type": "markdown",
   "id": "37a8a1a7-cb97-40be-aa07-648ffaf3f12b",
   "metadata": {},
   "source": [
    "## Creating a Tuple"
   ]
  },
  {
   "cell_type": "code",
   "execution_count": null,
   "id": "9c7b92ec-fdd1-4199-82bd-10a03ea62ede",
   "metadata": {},
   "outputs": [],
   "source": [
    "A tuple is created by placing items inside parentheses(), separated by commas."
   ]
  },
  {
   "cell_type": "code",
   "execution_count": 1,
   "id": "cf3bb07d-bf93-4878-940b-60dcb421cf4a",
   "metadata": {},
   "outputs": [
    {
     "name": "stdout",
     "output_type": "stream",
     "text": [
      "()\n",
      "(23,)\n",
      "<class 'tuple'>\n",
      "('Khushi', 'Python', 89, 2.3)\n",
      "('a', 'b', 'c', 'd', 'e')\n",
      "(1, True, (1+4j), 45.5)\n"
     ]
    }
   ],
   "source": [
    "# an empty tuple\n",
    "tup1 = ()\n",
    "print(tup1)\n",
    "\n",
    "tup2 = (23,)\n",
    "print(tup2)\n",
    "print(type(tup2))\n",
    "\n",
    "tup3 = (\"Khushi\",\"Python\",89,2.3)\n",
    "print(tup3)\n",
    "\n",
    "tup4 = ('a','b','c','d','e')\n",
    "print(tup4)\n",
    "\n",
    "tup5 = (1,True,1+4j,45.5)\n",
    "print(tup5)"
   ]
  },
  {
   "cell_type": "markdown",
   "id": "0fb78735-bbf3-4a96-a88e-d1a7362334d6",
   "metadata": {},
   "source": [
    "## Accessing Tuples element"
   ]
  },
  {
   "cell_type": "markdown",
   "id": "14e767a7-f568-4656-96f9-0b4fee2d117e",
   "metadata": {},
   "source": [
    "- Indexing\n",
    "- Slicing"
   ]
  },
  {
   "cell_type": "code",
   "execution_count": 2,
   "id": "054b1eb1-b644-4a74-8aec-7f5900a796c1",
   "metadata": {},
   "outputs": [
    {
     "name": "stdout",
     "output_type": "stream",
     "text": [
      "(1, 2, 3, 4, 5, 6, 7)\n"
     ]
    }
   ],
   "source": [
    "tup = (1,2,3,4,5,6,7)\n",
    "print(tup)"
   ]
  },
  {
   "cell_type": "code",
   "execution_count": 4,
   "id": "16c8354a-a564-4243-acd7-20abcac6557f",
   "metadata": {},
   "outputs": [
    {
     "name": "stdout",
     "output_type": "stream",
     "text": [
      "tup[0]:  1\n",
      "(6, 7)\n"
     ]
    }
   ],
   "source": [
    "#extract 1 from the tuple\n",
    "print(\"tup[0]: \",tup[0])\n",
    "\n",
    "#extract 6,7\n",
    "print(tup[5:])"
   ]
  },
  {
   "cell_type": "code",
   "execution_count": 9,
   "id": "c8e7ef47-f407-4326-b222-b08c40acf8d1",
   "metadata": {},
   "outputs": [
    {
     "name": "stdout",
     "output_type": "stream",
     "text": [
      "(1, 2, 3, 4, 5, 6, 7)\n",
      "(7,)\n"
     ]
    }
   ],
   "source": [
    "print(tup)\n",
    "print(tup[-1:])"
   ]
  },
  {
   "cell_type": "markdown",
   "id": "c5cf10ad-9c19-4355-8be1-e3c9296613d9",
   "metadata": {},
   "source": [
    "## Updating/Deleting tuple elements"
   ]
  },
  {
   "cell_type": "code",
   "execution_count": 11,
   "id": "7b18b820-ec3d-4203-9e4a-4adc2dcfc508",
   "metadata": {},
   "outputs": [
    {
     "name": "stdout",
     "output_type": "stream",
     "text": [
      "(1, 2, 3, 'abc', 'xyz')\n"
     ]
    }
   ],
   "source": [
    "#updating values in tuple\n",
    "t1 = (1,2,3)\n",
    "t2 = ('abc','xyz')\n",
    "\n",
    "t3 = t1+t2\n",
    "print(t3)"
   ]
  },
  {
   "cell_type": "code",
   "execution_count": 15,
   "id": "1db6ac3f-8019-46c2-ab18-834692a3a609",
   "metadata": {},
   "outputs": [
    {
     "ename": "NameError",
     "evalue": "name 't3' is not defined",
     "output_type": "error",
     "traceback": [
      "\u001b[1;31m---------------------------------------------------------------------------\u001b[0m",
      "\u001b[1;31mNameError\u001b[0m                                 Traceback (most recent call last)",
      "Cell \u001b[1;32mIn[15], line 2\u001b[0m\n\u001b[0;32m      1\u001b[0m \u001b[38;5;66;03m#deleting values in tuple\u001b[39;00m\n\u001b[1;32m----> 2\u001b[0m \u001b[38;5;28;01mdel\u001b[39;00m t3\n\u001b[0;32m      3\u001b[0m \u001b[38;5;28mprint\u001b[39m(t3)\n",
      "\u001b[1;31mNameError\u001b[0m: name 't3' is not defined"
     ]
    }
   ],
   "source": [
    "#deleting values in tuple\n",
    "del t3\n",
    "print(t3)"
   ]
  },
  {
   "cell_type": "markdown",
   "id": "327c2406-e4e9-477a-a4ea-59899f6406ea",
   "metadata": {},
   "source": [
    "## Tuple Operations"
   ]
  },
  {
   "cell_type": "code",
   "execution_count": 17,
   "id": "04a6d208-f8fa-468e-8b72-e880d0621b1a",
   "metadata": {},
   "outputs": [
    {
     "name": "stdout",
     "output_type": "stream",
     "text": [
      "[12, 24, 8, 23, 4, 67]\n",
      "True\n",
      "True\n",
      "12\n",
      "24\n",
      "8\n"
     ]
    }
   ],
   "source": [
    "tup1 = [12,24,8]\n",
    "tup2 = [23,4,67]\n",
    "#concatenation\n",
    "print(tup1 + tup2)\n",
    "\n",
    "#membership\n",
    "print( 24 in tup1)\n",
    "print(2 not in tup2)\n",
    "\n",
    "#loops/iteration\n",
    "for i in tup1:\n",
    "    print(i)"
   ]
  },
  {
   "cell_type": "markdown",
   "id": "76293a19-acf0-4809-88c0-68c1b71c1513",
   "metadata": {},
   "source": [
    "## Buit-in functions with Tuples"
   ]
  },
  {
   "cell_type": "code",
   "execution_count": 18,
   "id": "741fa557-2165-4250-87ce-21318c736576",
   "metadata": {},
   "outputs": [
    {
     "name": "stdout",
     "output_type": "stream",
     "text": [
      "[23, 4, 67]\n"
     ]
    }
   ],
   "source": [
    "print(tup2)"
   ]
  },
  {
   "cell_type": "code",
   "execution_count": 19,
   "id": "ebc6810b-def7-42f5-a083-1c3ea8db1d5e",
   "metadata": {},
   "outputs": [
    {
     "name": "stdout",
     "output_type": "stream",
     "text": [
      "3\n",
      "94\n",
      "4\n",
      "67\n",
      "[4, 23, 67]\n"
     ]
    }
   ],
   "source": [
    "#len/sum/min/max/sorted\n",
    "print(len(tup2))\n",
    "\n",
    "print(sum(tup2))\n",
    "\n",
    "print(min(tup2))\n",
    "\n",
    "print(max(tup2))\n",
    "\n",
    "print(sorted(tup2))"
   ]
  },
  {
   "cell_type": "code",
   "execution_count": 20,
   "id": "76b4d209-d7d0-4291-b0ac-6c458e42d658",
   "metadata": {},
   "outputs": [
    {
     "data": {
      "text/plain": [
       "0"
      ]
     },
     "execution_count": 20,
     "metadata": {},
     "output_type": "execute_result"
    }
   ],
   "source": [
    "tup2.count(24)\n"
   ]
  },
  {
   "cell_type": "code",
   "execution_count": 21,
   "id": "d52551a6-773a-4d5f-82f8-dc7cb37a9be0",
   "metadata": {},
   "outputs": [
    {
     "data": {
      "text/plain": [
       "2"
      ]
     },
     "execution_count": 21,
     "metadata": {},
     "output_type": "execute_result"
    }
   ],
   "source": [
    "tup1.index(8)"
   ]
  },
  {
   "cell_type": "markdown",
   "id": "6f08c275-c26c-4a08-82f0-35a62083b5e4",
   "metadata": {},
   "source": [
    "## Tuple Unpacking"
   ]
  },
  {
   "cell_type": "code",
   "execution_count": 26,
   "id": "7bbbf2f8-985a-419f-b970-d844fd11793a",
   "metadata": {},
   "outputs": [
    {
     "name": "stdout",
     "output_type": "stream",
     "text": [
      "0\n",
      "[1, 2, 3, 4, 5, 6, 7, 8]\n",
      "9\n"
     ]
    }
   ],
   "source": [
    "#this is helpful when you want to extract just a few specific elements and collect the rest together.\n",
    "tup = (0,1,2,3,4,5,6,7,8,9)\n",
    "\n",
    "a,*b,c = tup\n",
    "print(a)\n",
    "print(b)\n",
    "print(c)"
   ]
  },
  {
   "cell_type": "markdown",
   "id": "51e3aac0-66ef-458e-abd7-11c1bb9cee77",
   "metadata": {},
   "source": [
    "## Tuple Zipping"
   ]
  },
  {
   "cell_type": "code",
   "execution_count": 28,
   "id": "f6619ae9-b7eb-4523-8553-acb91b0a7f34",
   "metadata": {},
   "outputs": [
    {
     "data": {
      "text/plain": [
       "((1, 5), (2, 6), (3, 7), (4, 8))"
      ]
     },
     "execution_count": 28,
     "metadata": {},
     "output_type": "execute_result"
    }
   ],
   "source": [
    "a = (1,2,3,4)\n",
    "b = (5,6,7,8)\n",
    "\n",
    "tuple(zip(a,b))"
   ]
  },
  {
   "cell_type": "markdown",
   "id": "7f333b7d-2ea9-4f20-bc01-08a4716c698c",
   "metadata": {},
   "source": [
    "## Difference betweem lists and tuples in Python"
   ]
  },
  {
   "cell_type": "markdown",
   "id": "24a1f50e-bec9-4de3-abee-4704f87cc72e",
   "metadata": {},
   "source": [
    "Lists and tuples are both structure in python, but they differ in several aspects such as syntax, mutability, speed , memory usage, functionality,error-proneness,and usability."
   ]
  },
  {
   "cell_type": "markdown",
   "id": "5a74f0cc-ea7e-44d3-850d-532ac07cafc4",
   "metadata": {},
   "source": [
    "Syntax:\n",
    "- Lists are defined using square brackets [ ]. Example: my_list = [1, 2, 3]\n",
    "- Tuples are defined using parentheses ( ). Example: my_tuple = (1, 2, 3)"
   ]
  },
  {
   "cell_type": "markdown",
   "id": "9e8495a4-3d42-47b4-8f53-14f60ef3244b",
   "metadata": {},
   "source": [
    "Mutability:\n",
    "- Lists are mutable, meaning you can change, add, or remove elements after creation using methods like append(), insert(), or direct assignment.\n",
    "- Tuples are immutable, meaning once created, their elements cannot be changed. To modify them, you’d need to create a new tuple."
   ]
  },
  {
   "cell_type": "markdown",
   "id": "85b575e7-a3f5-46a9-91a4-0bf383dbd65e",
   "metadata": {},
   "source": [
    "Speed:\n",
    "- Lists are slightly slower than tuples because they are mutable and require extra overhead for resizing or copying elements.\n",
    "- Tuples are faster to access and process since they are immutable and more memory-efficient."
   ]
  },
  {
   "cell_type": "markdown",
   "id": "a7287915-1215-478d-949f-485563716c95",
   "metadata": {},
   "source": [
    "Memory Usage:\n",
    "- Lists consume more memory because of their mutability. They reserve extra space for future changes.\n",
    "- Tuples use less memory as they don’t require storage for modification-related operations.                                                                         "
   ]
  },
  {
   "cell_type": "markdown",
   "id": "eb385c5f-fea9-469f-bb1b-1eee26245fe0",
   "metadata": {},
   "source": [
    "Built-in Functionality:\n",
    "- Both lists and tuples support indexing, slicing, and iteration.\n",
    "- Lists have more built-in methods like append(), remove(), insert(), and extend(), making them ideal when frequent modification is needed.\n",
    "- Tuples have fewer methods due to immutability but offer data safety against unintended changes."
   ]
  },
  {
   "cell_type": "markdown",
   "id": "79d5e152-29e5-4c04-b672-770cb660f1f3",
   "metadata": {},
   "source": [
    "Error-proneness:\n",
    "- Lists are more error-prone, as they can be modified anywhere in the program, sometimes unintentionally.\n",
    "- Tuples are less error-prone because they cannot be altered after creation, making them more predictable and stable."
   ]
  },
  {
   "cell_type": "markdown",
   "id": "bec93591-fd92-48bb-b2cf-0975df7f1e63",
   "metadata": {},
   "source": [
    "Usability:\n",
    "- Lists are used when you need a dynamic collection of items that can change during execution (e.g., storing user inputs, mutable datasets).\n",
    "- Tuples are used when you need a fixed collection of data that should not change (e.g., coordinates, configuration values, or database records)."
   ]
  },
  {
   "cell_type": "code",
   "execution_count": null,
   "id": "271c0332-fd85-4fb3-930e-9da4b8330646",
   "metadata": {},
   "outputs": [],
   "source": []
  }
 ],
 "metadata": {
  "kernelspec": {
   "display_name": "Python 3 (ipykernel)",
   "language": "python",
   "name": "python3"
  },
  "language_info": {
   "codemirror_mode": {
    "name": "ipython",
    "version": 3
   },
   "file_extension": ".py",
   "mimetype": "text/x-python",
   "name": "python",
   "nbconvert_exporter": "python",
   "pygments_lexer": "ipython3",
   "version": "3.13.5"
  }
 },
 "nbformat": 4,
 "nbformat_minor": 5
}
