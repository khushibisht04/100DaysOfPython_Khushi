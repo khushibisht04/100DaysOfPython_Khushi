{
 "cells": [
  {
   "cell_type": "markdown",
   "id": "64fa3571-5a10-43e1-b772-a37bd8197e56",
   "metadata": {},
   "source": [
    "# Data Types"
   ]
  },
  {
   "cell_type": "markdown",
   "id": "f6357fd0-27d3-4b4b-ae44-137cddcdebc1",
   "metadata": {},
   "source": [
    "##### Data types in the python is crucial concept.They have several built-in data types,which determines what type can performed on that data.\n",
    "##### Following are the data types which built-in by default:-\n",
    "##### 1. Numeric Types: Integer(int), float, complex\n",
    "##### 2. Sequence Types: list, tuple, strings\n",
    "##### 3. Mapping Types: Dictionary(dict)\n",
    "##### 4. Set Types: set,frozenset\n",
    "##### 5. Boolean: bool\n",
    "##### 6. Binary Types: bytes, bytearray, memoryview\n",
    "##### 7. None Type: NoneType"
   ]
  },
  {
   "cell_type": "code",
   "execution_count": 2,
   "id": "6e099dd4-5aab-4649-8c74-5537f4dce34c",
   "metadata": {},
   "outputs": [],
   "source": [
    "x = 34 #int\n",
    "x = 34.5 #float\n",
    "x = \"Python\" #string\n",
    "x = [\"Data\", \"Types\", \"Python\"]#list\n",
    "x = (\"Data\", \"Types\", \"Python\")#tuple\n"
   ]
  },
  {
   "cell_type": "markdown",
   "id": "bf3b8c22-e7a5-4abe-be42-0cc9e0c910ea",
   "metadata": {},
   "source": [
    "### 1. Numeric Types"
   ]
  },
  {
   "cell_type": "markdown",
   "id": "88161198-5709-43e8-9738-7d1a0270ac31",
   "metadata": {},
   "source": [
    "##### In Numeric Data Type, it represent data in numeric value. It inlcludes Integers, floating point and complex. They are defined as int,float,and complex classes.\n",
    "##### 1.Integer :- Integer contains whole numbers even its positive or negative but without fractions or decimals.\n",
    "##### 2.Float:- Float contains both negative or positive numbers but in decimals.\n",
    "##### 3.Complex numbers:- Complex number represented by a complex class.It includes with real and imaginary values.¶"
   ]
  },
  {
   "cell_type": "code",
   "execution_count": 21,
   "id": "79ad2718-6b14-478c-b0df-26237b96f418",
   "metadata": {},
   "outputs": [
    {
     "name": "stdout",
     "output_type": "stream",
     "text": [
      "<class 'int'>\n",
      "<class 'float'>\n",
      "<class 'complex'>\n"
     ]
    }
   ],
   "source": [
    "x = 9\n",
    "y = 3.4\n",
    "z = 2 + 4j\n",
    "\n",
    "print(type(x))\n",
    "print(type(y))\n",
    "print(type(z))"
   ]
  },
  {
   "cell_type": "markdown",
   "id": "da634571-6dcf-4d23-9137-5b2a671b9d5c",
   "metadata": {},
   "source": [
    "### 2.Sequence Types"
   ]
  },
  {
   "cell_type": "markdown",
   "id": "f74f5f68-db8f-4e5c-aa0f-93ddc3fe7641",
   "metadata": {},
   "source": [
    "##### Sequence data types are used to store data in containers in python and it can be similar or different data types. They have different data type like strings,list and tuple.\n",
    "##### 1. String:- It stored using string values using string data types. Strings can be created using single quotes, double quotes, and even triple quotes.\n",
    "##### 2. List:- In list we can add any data type's values or component in it as it is the only mutable data type in the sequential category.List have lot of built-in functions like append, remove,insert,extend,reverse,etc.2. List:- In list we can add any data type's values or component in it as it is the only mutable data type in the sequential category.List have lot of built-in functions like append, remove,insert,extend,reverse,etc.\n",
    "##### 3. Tuple:- TUple is similar as list data type.As it is also belongs to the sequence data type category Tuples can have any number of elements and any data type like stringd, integers ,list,etc.¶"
   ]
  },
  {
   "cell_type": "code",
   "execution_count": 5,
   "id": "b5ca0d94-8932-49c9-921f-f560d62d450e",
   "metadata": {},
   "outputs": [
    {
     "name": "stdout",
     "output_type": "stream",
     "text": [
      "Python is the programming language\n",
      "<class 'str'>\n",
      "['Jupyter', 'Notebook', 'Python']\n",
      "<class 'list'>\n",
      "('Jupyter', 'Notebook', 'Python')\n",
      "<class 'tuple'>\n"
     ]
    }
   ],
   "source": [
    "a = 'Python is the programming language'\n",
    "print(a)\n",
    "print(type(a))\n",
    "\n",
    "b = [\"Jupyter\",\"Notebook\",\"Python\"]\n",
    "print(b)\n",
    "print(type(b))\n",
    "\n",
    "c = (\"Jupyter\",\"Notebook\",\"Python\")\n",
    "print(c)\n",
    "print(type(c))"
   ]
  },
  {
   "cell_type": "code",
   "execution_count": null,
   "id": "035564b9-9ae2-42d4-9775-212c504954ff",
   "metadata": {},
   "outputs": [],
   "source": []
  },
  {
   "cell_type": "markdown",
   "id": "093bbfa0-c9a9-49ff-b635-407f4afb7c99",
   "metadata": {},
   "source": [
    "### 3.Mapping Types"
   ]
  },
  {
   "cell_type": "markdown",
   "id": "186e7383-fade-4dcc-9fa4-5753f7716c2f",
   "metadata": {},
   "source": [
    "##### The mapping types, also called dict, are crucial data structures that allows store and manage key-values pairs.It is mutable,means it can delete or add values,or change existing values without creating a new object in memory."
   ]
  },
  {
   "cell_type": "code",
   "execution_count": 9,
   "id": "9718b92a-cbe8-4885-b013-c52af5afde09",
   "metadata": {},
   "outputs": [
    {
     "name": "stdout",
     "output_type": "stream",
     "text": [
      "19\n",
      "dict_keys(['name', 'age', 'city'])\n",
      "dict_values(['khushi', 19, 'New delhi'])\n",
      "dict_items([('name', 'khushi'), ('age', 19), ('city', 'New delhi')])\n",
      "{'name': 'khushi', 'age': 22, 'city': 'San Francisco'}\n"
     ]
    }
   ],
   "source": [
    "my_dict ={'name': 'khushi',\n",
    "          'age': 19,\n",
    "          'city':'New delhi'\n",
    "         }\n",
    "#dictionary methods:\n",
    "\n",
    "print(my_dict.get('age',20)) #get() returns the value of the key if it exists otherwise return default value.\n",
    "print(my_dict.keys())#keys() returns objects of all the keys.\n",
    "print(my_dict.values())#values() returns a view object of all the values.\n",
    "print(my_dict.items())#items() returns a view object of all the key-value pairs.\n",
    "\n",
    "my_dict.update({'age':22,'city':'San Francisco'}) # updating the dictionary\n",
    "print(my_dict)\n"
   ]
  },
  {
   "cell_type": "markdown",
   "id": "a00e8835-621e-4bf7-9d80-9bdb4b65415b",
   "metadata": {},
   "source": [
    "### 4. Set Types"
   ]
  },
  {
   "cell_type": "markdown",
   "id": "0a7e2dcc-2454-42e7-a3b2-d8bc383aee20",
   "metadata": {},
   "source": [
    "##### Set provides classes for constructing unordered collecctions of data types that is mutable and unique. It has no duplicate elements even after existing of that element if we try to add back , it will not be added.It is mutable cause it can be add or remove elements from the set after been created."
   ]
  },
  {
   "cell_type": "code",
   "execution_count": 19,
   "id": "b10bcfdb-0f97-4446-83d1-97f85cb32c43",
   "metadata": {},
   "outputs": [
    {
     "name": "stdout",
     "output_type": "stream",
     "text": [
      "{2, 3}\n",
      "{1, 2, 3, 4, 5, 6, 7, 8}\n"
     ]
    }
   ],
   "source": [
    "a = {1,2,3,4,5}\n",
    "b ={6,7,8,2,3}\n",
    "\n",
    "def common_in_set(a,b):\n",
    "    return a & b\n",
    "def all_in_set(a,b):\n",
    "    return a|b\n",
    "print(common_in_set(a,b))\n",
    "print(all_in_set(a,b))\n",
    "    "
   ]
  },
  {
   "cell_type": "markdown",
   "id": "6f5f2e7e-3953-4e20-8ef8-c0019ae70ffd",
   "metadata": {},
   "source": [
    "### 5.Boolean Type"
   ]
  },
  {
   "cell_type": "markdown",
   "id": "3e4303b7-52ef-46a9-a1b6-51f08df3ba84",
   "metadata": {},
   "source": [
    "##### Boolean type in python can hold one of two possible values i.e True or False.They are used to represent the truth values of the expressions.It represented by the keyword bool to indicates the variable is Boolean data type. "
   ]
  },
  {
   "cell_type": "code",
   "execution_count": 15,
   "id": "b02ead72-32d1-4667-a50f-0a868ff72022",
   "metadata": {},
   "outputs": [
    {
     "name": "stdout",
     "output_type": "stream",
     "text": [
      "True\n"
     ]
    }
   ],
   "source": [
    "a = 20\n",
    "b = 45\n",
    "print(a<b)"
   ]
  },
  {
   "cell_type": "code",
   "execution_count": 16,
   "id": "516de4b1-6aab-4573-a124-0603c9ba93fe",
   "metadata": {},
   "outputs": [
    {
     "name": "stdout",
     "output_type": "stream",
     "text": [
      "b is not greater than a\n"
     ]
    }
   ],
   "source": [
    "a = 345\n",
    "b=56\n",
    "\n",
    "if b>a:\n",
    "    print(\"b is greater than a\")\n",
    "else:\n",
    "    print(\"b is not greater than a\")"
   ]
  },
  {
   "cell_type": "markdown",
   "id": "28d245ca-e1ca-4605-b6f7-46b466be6848",
   "metadata": {},
   "source": [
    "### 6.Binary Type"
   ]
  },
  {
   "cell_type": "markdown",
   "id": "f7964a6a-5f94-42e8-a395-d017a79c5060",
   "metadata": {},
   "source": [
    "##### In Binary types,we have built-in types for handling data i.e bytes,bytearray,and memoryview."
   ]
  },
  {
   "cell_type": "code",
   "execution_count": 6,
   "id": "6e79fc48-6e84-4112-bd03-6864e67cc15d",
   "metadata": {},
   "outputs": [
    {
     "name": "stdout",
     "output_type": "stream",
     "text": [
      "Bytes: b'Hello Bytes'\n",
      "Modified Bytearray: bytearray(b'Mallo Bytearray')\n",
      "Modified Bytearray via Memoryview: bytearray(b'Mallo Bytearray')\n"
     ]
    }
   ],
   "source": [
    "#bytes:\n",
    "my_bytes = b\"Hello Bytes\"\n",
    "\n",
    "#bytearray\n",
    "my_bytearray = bytearray(b\"Hello Bytearray\")\n",
    "my_bytearray[0] = 77 #changes 'H' to 'M'\n",
    "\n",
    "#memoryview\n",
    "my_memoryview = memoryview(my_bytearray)\n",
    "my_memoryview[1] = 97 #changes 'e' to 'a'\n",
    "\n",
    "print(\"Bytes:\",my_bytes)\n",
    "print(\"Modified Bytearray:\",my_bytearray)\n",
    "print(\"Modified Bytearray via Memoryview:\",my_bytearray)"
   ]
  },
  {
   "cell_type": "code",
   "execution_count": null,
   "id": "57cb2633-9d88-432e-9a71-d267a789f105",
   "metadata": {},
   "outputs": [],
   "source": []
  },
  {
   "cell_type": "markdown",
   "id": "bc08ee80-7b8c-470d-8197-b393403ce7dd",
   "metadata": {},
   "source": [
    "# Type Conversion"
   ]
  },
  {
   "cell_type": "markdown",
   "id": "5b765ac1-d5da-4792-88f1-5dde2c51ed9f",
   "metadata": {},
   "source": [
    "##### In the process of Type conversion data types can be changed of a value from one type to another.There are two types of type conversion:\n",
    "##### 1.Implicit conversion:In implicit,data type change by itself.\n",
    "##### 2.Explicit conversion:In explicit,data type change by using function like int(), float()or str()."
   ]
  },
  {
   "cell_type": "markdown",
   "id": "e8d04496-72bc-4a1e-826b-3d850088a241",
   "metadata": {},
   "source": [
    "#### Implicit conversion"
   ]
  },
  {
   "cell_type": "code",
   "execution_count": 8,
   "id": "2fe59dcd-b33e-49f4-855b-27bf715691d8",
   "metadata": {},
   "outputs": [
    {
     "name": "stdout",
     "output_type": "stream",
     "text": [
      "x: <class 'int'>\n",
      "y: <class 'float'>\n",
      "z = 18.5\n",
      "z: <class 'float'>\n"
     ]
    }
   ],
   "source": [
    "x = 10\n",
    "y = 8.5\n",
    "z = x+y\n",
    "\n",
    "print(\"x:\", type(x))\n",
    "print(\"y:\", type(y))\n",
    "print(\"z =\",z)\n",
    "print(\"z:\", type(z))\n"
   ]
  },
  {
   "cell_type": "markdown",
   "id": "1d9e9529-618a-4f2f-beab-fd7037621b47",
   "metadata": {},
   "source": [
    "#### Explicit coversion"
   ]
  },
  {
   "cell_type": "code",
   "execution_count": 14,
   "id": "b20af554-3fc7-48f2-ad9b-65487b6482ed",
   "metadata": {},
   "outputs": [
    {
     "name": "stdout",
     "output_type": "stream",
     "text": [
      "4.0\n",
      "<class 'float'>\n",
      "123\n",
      "<class 'int'>\n"
     ]
    }
   ],
   "source": [
    "#converting a integer to a float\n",
    "num = 4\n",
    "num_float = float(num)\n",
    "print(num_float)\n",
    "print(type(num_float))\n",
    "\n",
    "#converting a string to an integer\n",
    "str_num =\"123\"\n",
    "num_int = int(str_num)\n",
    "print(num_int)\n",
    "print(type(num_int))"
   ]
  },
  {
   "cell_type": "code",
   "execution_count": null,
   "id": "1c427ba2-c162-46a6-8b4f-0e3c0260e9a3",
   "metadata": {},
   "outputs": [],
   "source": []
  }
 ],
 "metadata": {
  "kernelspec": {
   "display_name": "Python [conda env:base] *",
   "language": "python",
   "name": "conda-base-py"
  },
  "language_info": {
   "codemirror_mode": {
    "name": "ipython",
    "version": 3
   },
   "file_extension": ".py",
   "mimetype": "text/x-python",
   "name": "python",
   "nbconvert_exporter": "python",
   "pygments_lexer": "ipython3",
   "version": "3.13.5"
  }
 },
 "nbformat": 4,
 "nbformat_minor": 5
}
