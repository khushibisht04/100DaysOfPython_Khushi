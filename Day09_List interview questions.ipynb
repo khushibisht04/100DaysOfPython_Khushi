{
 "cells": [
  {
   "cell_type": "markdown",
   "id": "b1695aac-df8e-4183-a4ed-3f295bcb8de7",
   "metadata": {},
   "source": [
    "# LIST INTERVIEW QUESTIONS"
   ]
  },
  {
   "cell_type": "markdown",
   "id": "35d92abc-e9aa-48d3-a2c1-197c7d12856e",
   "metadata": {},
   "source": [
    "1.How can you add, remove or modify elements in a list?"
   ]
  },
  {
   "cell_type": "markdown",
   "id": "e029d9aa-688d-405b-9d38-13586c6b7e05",
   "metadata": {},
   "source": [
    "Answer:\n",
    "Python provides several methods to modify lists:\n",
    "- Add elements:\n",
    "   - append(): Adds one element at the end\n",
    "   - extend(): Adds multiple elements\n",
    "   - insert(index,value): Adds at a specific position"
   ]
  },
  {
   "cell_type": "code",
   "execution_count": 6,
   "id": "9cffb405-891d-49b3-ab7e-1b6611da68c3",
   "metadata": {},
   "outputs": [
    {
     "name": "stdout",
     "output_type": "stream",
     "text": [
      "[1, 2, 3, 4]\n",
      "[1, 2, 3, 4, 5, 6]\n",
      "[1, 2, 10, 3, 4, 5, 6]\n"
     ]
    }
   ],
   "source": [
    "l = [1,2,3]\n",
    "l.append(4)\n",
    "print(l)\n",
    "\n",
    "l.extend([5,6])\n",
    "print(l)\n",
    "\n",
    "l.insert(2,10)\n",
    "print(l)"
   ]
  },
  {
   "cell_type": "markdown",
   "id": "3aaa2557-9b9b-4bde-9051-facf7006afa8",
   "metadata": {},
   "source": [
    "- Remove elements:\n",
    " - remove(value): removes first element\n",
    " - pop(index(): removes element at index\n",
    " - clear(): removes all elements\n"
   ]
  },
  {
   "cell_type": "code",
   "execution_count": 7,
   "id": "929a8a07-a9ad-4b53-ab6d-d99751295ea7",
   "metadata": {},
   "outputs": [
    {
     "name": "stdout",
     "output_type": "stream",
     "text": [
      "[1, 2, 3, 4, 5, 6]\n",
      "[1, 2, 4, 5, 6]\n",
      "[]\n"
     ]
    }
   ],
   "source": [
    "l.remove(10)\n",
    "print(l)\n",
    "\n",
    "l.pop(2)\n",
    "print(l)\n",
    "\n",
    "l.clear()\n",
    "print(l)"
   ]
  },
  {
   "cell_type": "markdown",
   "id": "294bc8f9-8f27-4a80-8d36-8281ed5bf206",
   "metadata": {},
   "source": [
    "- Modify elements:\n",
    "  - simply reassign by index."
   ]
  },
  {
   "cell_type": "code",
   "execution_count": 9,
   "id": "64fe62b1-5429-4f8d-a84f-91330221308e",
   "metadata": {},
   "outputs": [
    {
     "name": "stdout",
     "output_type": "stream",
     "text": [
      "[10, 2, 3]\n"
     ]
    }
   ],
   "source": [
    "l = [1,2,3]\n",
    "l[0] = 10\n",
    "\n",
    "print(l)"
   ]
  },
  {
   "cell_type": "markdown",
   "id": "28ceef8a-5afc-4250-921f-aa39eb2ff574",
   "metadata": {},
   "source": [
    "2. How do you iterate through a list in python?"
   ]
  },
  {
   "cell_type": "code",
   "execution_count": 24,
   "id": "879afa19-7768-46d7-85a3-7fe5340b1c1b",
   "metadata": {},
   "outputs": [
    {
     "name": "stdout",
     "output_type": "stream",
     "text": [
      "1\n",
      "2\n",
      "3\n",
      "1\n",
      "2\n",
      "3\n",
      "1\n",
      "2\n",
      "3\n"
     ]
    },
    {
     "data": {
      "text/plain": [
       "[None, None, None]"
      ]
     },
     "execution_count": 24,
     "metadata": {},
     "output_type": "execute_result"
    }
   ],
   "source": [
    "# Answer:\n",
    "#using for loop\n",
    "for item in [1,2,3]:\n",
    "    print(item)\n",
    "\n",
    "#using while loop\n",
    "l = [1,2,3]\n",
    "i = 0\n",
    "while i < len(l):\n",
    "    print(l[i])\n",
    "    i += 1\n",
    "#using list comprehension\n",
    "[print(x) for x in l]"
   ]
  },
  {
   "cell_type": "markdown",
   "id": "7c6ea35d-882a-43d7-8869-c1068adcd9e6",
   "metadata": {},
   "source": [
    "3. What are list comprehension, and why are they useful?"
   ]
  },
  {
   "cell_type": "markdown",
   "id": "d58692d5-4863-4fbd-890e-7b7b5dfb4ef8",
   "metadata": {},
   "source": [
    "Answer:\n",
    "A list comprehension is a concise way to create lists in a single line of code. It's faster and cleaner than using loops."
   ]
  },
  {
   "cell_type": "code",
   "execution_count": 17,
   "id": "9c31fea9-5765-4bc0-b171-be1eabde8804",
   "metadata": {},
   "outputs": [
    {
     "name": "stdout",
     "output_type": "stream",
     "text": [
      "[0, 1, 4, 9, 16]\n",
      "[0, 2, 4, 6, 8]\n"
     ]
    }
   ],
   "source": [
    "sq = [x**2 for x in range(5)]\n",
    "print(sq)\n",
    "\n",
    "even_no = [x for x in range(10) if x%2 == 0]\n",
    "print(even_no)"
   ]
  },
  {
   "cell_type": "markdown",
   "id": "5fbf3447-c478-47e7-859f-7dd84bdd7e35",
   "metadata": {},
   "source": [
    "4. What's the difference between sort() and sorted()?"
   ]
  },
  {
   "cell_type": "markdown",
   "id": "c57011f4-24bc-4952-9bbb-ae6ab58311de",
   "metadata": {},
   "source": [
    "Answer:\n",
    "- list.sort(): sorts the original list(in-place).Returns none.\n",
    "- sorted(list): returns a new sorted list, leaving the original unchanged."
   ]
  },
  {
   "cell_type": "code",
   "execution_count": 19,
   "id": "f7085374-b532-4db7-920f-14e34a1b24e7",
   "metadata": {},
   "outputs": [
    {
     "name": "stdout",
     "output_type": "stream",
     "text": [
      "[5, 29, 3, 18]\n",
      "[3, 5, 18, 29]\n"
     ]
    }
   ],
   "source": [
    "nums = [5,29,3,18]\n",
    "sorted_nums = sorted(nums)\n",
    "print(nums)\n",
    "print(sorted_nums)"
   ]
  },
  {
   "cell_type": "markdown",
   "id": "d2c09079-8bc6-4077-9356-a0aba720337d",
   "metadata": {},
   "source": [
    "5.What is the difference between list.copy() and using slicing like list[:]"
   ]
  },
  {
   "cell_type": "markdown",
   "id": "d08327d9-a37b-41af-a1e8-2a5b318938ea",
   "metadata": {},
   "source": [
    "Answer:\n",
    "Both create shallow copies, but there's a sight performance and readability difference."
   ]
  },
  {
   "cell_type": "code",
   "execution_count": 21,
   "id": "728a8d4e-a4d9-4b8b-ab7d-1b5d3c5b7974",
   "metadata": {},
   "outputs": [],
   "source": [
    "a = [ 1,2,3,4]\n",
    "b = a[:] #slicing copy\n",
    "c = a.copy()#method copy"
   ]
  },
  {
   "cell_type": "markdown",
   "id": "53eab3ac-e5d3-43c0-88ea-d3e04f6e7b7e",
   "metadata": {},
   "source": [
    "both b and c are shallow copies which changes a won't affect them, but nested lists will still share inner references.\n",
    "perfomance-wise,slicing can be a bit faster since it's built at the C level, but .copy() is more explicit and readable, so it's preferred in production code."
   ]
  },
  {
   "cell_type": "code",
   "execution_count": null,
   "id": "9279ea0c-634b-43e2-b9fd-e386bcefafb6",
   "metadata": {},
   "outputs": [],
   "source": []
  }
 ],
 "metadata": {
  "kernelspec": {
   "display_name": "Python [conda env:base] *",
   "language": "python",
   "name": "conda-base-py"
  },
  "language_info": {
   "codemirror_mode": {
    "name": "ipython",
    "version": 3
   },
   "file_extension": ".py",
   "mimetype": "text/x-python",
   "name": "python",
   "nbconvert_exporter": "python",
   "pygments_lexer": "ipython3",
   "version": "3.13.5"
  }
 },
 "nbformat": 4,
 "nbformat_minor": 5
}
