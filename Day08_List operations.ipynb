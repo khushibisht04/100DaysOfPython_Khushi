{
 "cells": [
  {
   "cell_type": "markdown",
   "id": "56833fee-1233-41a4-b08a-bc6a9ea43e0a",
   "metadata": {},
   "source": [
    "# LIST OPERATIONS"
   ]
  },
  {
   "cell_type": "markdown",
   "id": "b257f868-a8c9-4bd2-8523-ce60683edc6b",
   "metadata": {},
   "source": [
    "There are mainly three common ways can work with lists:\n",
    "- Arithmetic operations(+,*)\n",
    "- Membership operations(in,not in)\n",
    "- Looping through lists(for,while)"
   ]
  },
  {
   "cell_type": "markdown",
   "id": "1b536d0e-454a-4d0e-ac6a-28b27655ccbc",
   "metadata": {},
   "source": [
    "### Arithmetic operations"
   ]
  },
  {
   "cell_type": "code",
   "execution_count": 3,
   "id": "363bc2b4-f0fd-449d-8879-7cf08f131d0c",
   "metadata": {},
   "outputs": [
    {
     "name": "stdout",
     "output_type": "stream",
     "text": [
      "[5, 6, 7, 8, 9, 10]\n"
     ]
    }
   ],
   "source": [
    "L1 = [ 5,6,7]\n",
    "L2 = [8,9,10]\n",
    "\n",
    "#Concatenation(+)\n",
    "sum = L1 + L2\n",
    "print(sum)"
   ]
  },
  {
   "cell_type": "code",
   "execution_count": 4,
   "id": "8ebec814-a417-4ca5-8a90-f988aa188ddc",
   "metadata": {},
   "outputs": [
    {
     "name": "stdout",
     "output_type": "stream",
     "text": [
      "[1, 2, 3, 1, 2, 3, 1, 2, 3]\n",
      "[4, 5, 6, 4, 5, 6, 4, 5, 6, 4, 5, 6]\n"
     ]
    }
   ],
   "source": [
    "L1 = [1,2,3]\n",
    "L2 = [4,5,6]\n",
    "\n",
    "# Repetition(*)\n",
    "print(L1*3)\n",
    "print(L2*4)"
   ]
  },
  {
   "cell_type": "markdown",
   "id": "12795f49-ed44-41fb-aa63-fb0898eeb228",
   "metadata": {},
   "source": [
    "### Membership operations"
   ]
  },
  {
   "cell_type": "code",
   "execution_count": 7,
   "id": "38206912-b0a1-4f5f-960e-7388d7714286",
   "metadata": {},
   "outputs": [
    {
     "name": "stdout",
     "output_type": "stream",
     "text": [
      "True\n",
      "False\n",
      "True\n"
     ]
    }
   ],
   "source": [
    "L = [1,2,3,4,5]\n",
    "S = \"Hello world\"\n",
    "\n",
    "#in operator\n",
    "print(3 in L)\n",
    "\n",
    "#not in operator\n",
    "print('H' not in S)\n",
    "print('x' not in S)"
   ]
  },
  {
   "cell_type": "markdown",
   "id": "0ea65934-7808-469e-a537-4f0551bca1d3",
   "metadata": {},
   "source": [
    "### Looping through lists"
   ]
  },
  {
   "cell_type": "code",
   "execution_count": 8,
   "id": "55a3a05e-58ff-4b9c-9f0a-84a7e774e31d",
   "metadata": {},
   "outputs": [
    {
     "name": "stdout",
     "output_type": "stream",
     "text": [
      "H\n",
      "e\n",
      "l\n",
      "l\n",
      "o\n",
      " \n",
      "w\n",
      "o\n",
      "r\n",
      "l\n",
      "d\n"
     ]
    }
   ],
   "source": [
    "L = [1,2,3,4,5]\n",
    "S = \"Hello world\"\n",
    "\n",
    "for i in S:\n",
    "    print(i)"
   ]
  },
  {
   "cell_type": "markdown",
   "id": "019e2f61-31da-448b-875b-3337f9eeef24",
   "metadata": {},
   "source": [
    "## Built-in Functions with Lists"
   ]
  },
  {
   "cell_type": "markdown",
   "id": "ffb49cc5-4529-4d7f-9fe1-a3e117ef50a5",
   "metadata": {},
   "source": [
    "- len(list): Gives the total length of the list.\n",
    "- max(list): Returns item from the list with max value.\n",
    "- min(list): Returns item from the list with min value.\n",
    "- list(seq): Converts a tuple into list.\n",
    "- sorted(list): Returns a new sorted list."
   ]
  },
  {
   "cell_type": "code",
   "execution_count": 12,
   "id": "39a41535-33ba-4950-bec6-43f5460390a5",
   "metadata": {},
   "outputs": [
    {
     "name": "stdout",
     "output_type": "stream",
     "text": [
      "7\n",
      "102\n",
      "3\n",
      "[3, 4, 5, 6, 7, 100, 102]\n",
      "[6, 7, 102, 3, 4, 5, 100]\n"
     ]
    }
   ],
   "source": [
    "#Example:\n",
    "L = [6,7,102,3,4,5,100]\n",
    "\n",
    "print(len(L))\n",
    "print(max(L))\n",
    "print(min(L))\n",
    "print(sorted(L))\n",
    "print(list(L))"
   ]
  },
  {
   "cell_type": "markdown",
   "id": "1ff8fa21-35b3-4e54-8aa2-e27ea7988bc6",
   "metadata": {},
   "source": [
    "#### Methods:"
   ]
  },
  {
   "cell_type": "code",
   "execution_count": 18,
   "id": "b9dabc0d-0187-401c-a697-ebe30393c067",
   "metadata": {},
   "outputs": [
    {
     "data": {
      "text/plain": [
       "1"
      ]
     },
     "execution_count": 18,
     "metadata": {},
     "output_type": "execute_result"
    }
   ],
   "source": [
    "#count\n",
    "L = [24,3,5,43,28,53]\n",
    "\n",
    "L.count(24)\n"
   ]
  },
  {
   "cell_type": "code",
   "execution_count": 17,
   "id": "6d6519a0-7139-4d40-b801-a609ef222ed3",
   "metadata": {},
   "outputs": [
    {
     "name": "stdout",
     "output_type": "stream",
     "text": [
      "[53, 28, 43, 5, 3, 24]\n"
     ]
    }
   ],
   "source": [
    "#reverse\n",
    "L = [24,3,5,43,28,53]\n",
    "\n",
    "L.reverse()\n",
    "print(L)"
   ]
  },
  {
   "cell_type": "markdown",
   "id": "eea37795-e567-483e-a5b7-6d0395b423d1",
   "metadata": {},
   "source": [
    "## List Comprehension"
   ]
  },
  {
   "cell_type": "markdown",
   "id": "51291c50-3304-4f08-abca-97b315189113",
   "metadata": {},
   "source": [
    "List comprehension in python offers a concise and efficient way to create new lists based on existing iterables such as lists,tuples, strings, or ranges."
   ]
  },
  {
   "cell_type": "markdown",
   "id": "417f2d57-5675-4d6f-a27b-9ffadcbb8d0c",
   "metadata": {},
   "source": [
    "##### Basic Syntax:"
   ]
  },
  {
   "cell_type": "markdown",
   "id": "43c555a2-f41a-422b-ad7f-de3f6303b60b",
   "metadata": {},
   "source": [
    "#### new_list = [expression for item in iterable if condition]"
   ]
  },
  {
   "cell_type": "code",
   "execution_count": 20,
   "id": "bf8034f5-e97a-47be-88b1-44396da09721",
   "metadata": {},
   "outputs": [
    {
     "name": "stdout",
     "output_type": "stream",
     "text": [
      "[1, 4, 9, 16, 25]\n"
     ]
    }
   ],
   "source": [
    "sqaures = [i**2 for i in range(1,6)]\n",
    "print(sqaures)"
   ]
  },
  {
   "cell_type": "code",
   "execution_count": 21,
   "id": "1122cad2-c1f4-4326-9224-6e6338b65b8d",
   "metadata": {},
   "outputs": [
    {
     "name": "stdout",
     "output_type": "stream",
     "text": [
      "[1, 2, 3, 4, 5, 6, 7, 8, 9, 10]\n"
     ]
    }
   ],
   "source": [
    "L = [i for i in range(1,11)]\n",
    "print(L)"
   ]
  },
  {
   "cell_type": "code",
   "execution_count": 22,
   "id": "d8292401-115e-41f1-b1f2-9c143d95db11",
   "metadata": {},
   "outputs": [
    {
     "data": {
      "text/plain": [
       "[4, 8, 12, 16, 20, 24, 28, 32, 36, 40]"
      ]
     },
     "execution_count": 22,
     "metadata": {},
     "output_type": "execute_result"
    }
   ],
   "source": [
    "# prints all numbers divisible by 4 in the range of 1 to 40\n",
    "[i for i in range(1,41) if i%4 == 0]"
   ]
  },
  {
   "cell_type": "code",
   "execution_count": null,
   "id": "76680a14-b2c4-4fe8-b03a-5b6a9987f027",
   "metadata": {},
   "outputs": [],
   "source": []
  }
 ],
 "metadata": {
  "kernelspec": {
   "display_name": "Python 3 (ipykernel)",
   "language": "python",
   "name": "python3"
  },
  "language_info": {
   "codemirror_mode": {
    "name": "ipython",
    "version": 3
   },
   "file_extension": ".py",
   "mimetype": "text/x-python",
   "name": "python",
   "nbconvert_exporter": "python",
   "pygments_lexer": "ipython3",
   "version": "3.13.5"
  }
 },
 "nbformat": 4,
 "nbformat_minor": 5
}
