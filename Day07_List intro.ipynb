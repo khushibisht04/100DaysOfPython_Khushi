{
 "cells": [
  {
   "cell_type": "markdown",
   "id": "54ef2554-13a2-4ecf-b347-e1cbb01276b1",
   "metadata": {},
   "source": [
    "# LIST IN PYTHON"
   ]
  },
  {
   "cell_type": "markdown",
   "id": "2301abda-54be-4e56-bf2a-754574e3e2b7",
   "metadata": {},
   "source": [
    "List in python is a built-in data structure that can hold an ordered collection of items. Items in the list do not need to be of the same data type and can include integers, strings, boolean ,floating-point numbers,and even other lists.List are defined by enclosing elements within square brackets[], with individual elements by commas."
   ]
  },
  {
   "cell_type": "markdown",
   "id": "d67f0445-9975-4491-8210-96769859d1d3",
   "metadata": {},
   "source": [
    "### Characterstics of a List:"
   ]
  },
  {
   "cell_type": "markdown",
   "id": "197e77cc-82b1-4feb-953c-b0b2bcf90908",
   "metadata": {},
   "source": [
    "- Ordered: Maintain the order of the data insertion.\n",
    "- Changeable: List is mutable and we can modify items.\n",
    "- Heterogeneous: List can contain data of different types.\n",
    "- Contains duplicate: Allows duplicates data. \n",
    "- Mutable: items can be modified,replaced or removed.\n",
    "- Are dynamic in nature.\n",
    "- Items can be accessed."
   ]
  },
  {
   "cell_type": "markdown",
   "id": "b67f8292-f46f-4b18-9ed1-f2e63a34583f",
   "metadata": {},
   "source": [
    "## Creating a List"
   ]
  },
  {
   "cell_type": "code",
   "execution_count": 4,
   "id": "deed10e2-8667-44c5-9339-a299d7fcf7b4",
   "metadata": {},
   "outputs": [
    {
     "name": "stdout",
     "output_type": "stream",
     "text": [
      "['H', 'E', 'L', 'L', 'O']\n",
      "['A', 'B', 'C']\n",
      "[0, 0, 0, 0]\n"
     ]
    }
   ],
   "source": [
    "a = ['H','E','L','L','O'] #using square brackets\n",
    "b = list(\"ABC\") #using list() constructor\n",
    "c = [0]*4 # creating list with repeated elements\n",
    "\n",
    "print(a)\n",
    "print(b)\n",
    "print(c)"
   ]
  },
  {
   "cell_type": "markdown",
   "id": "2e6df084-4e75-49c8-b397-380c05115a9f",
   "metadata": {},
   "source": [
    "## Accessing List Elements"
   ]
  },
  {
   "cell_type": "markdown",
   "id": "f1e1a7f5-472a-43ae-be9e-9a5fd62d3bcc",
   "metadata": {},
   "source": [
    "- Indexing\n",
    "- Slicing"
   ]
  },
  {
   "cell_type": "code",
   "execution_count": 9,
   "id": "95d40310-489a-4940-8102-2fc802a905d9",
   "metadata": {},
   "outputs": [
    {
     "name": "stdout",
     "output_type": "stream",
     "text": [
      "4\n",
      "5\n",
      "[1, 2, 3, 4, 5]\n"
     ]
    }
   ],
   "source": [
    "#Indexing\n",
    "f_list = [[[1,2],[3,4]],[[5,6],[7,8]]]\n",
    "s_list = [1,2,3,4,5]\n",
    "\n",
    "print(f_list[0][1][1])# for extracting 4\n",
    "print(f_list[1][0][0])#for extracting 5\n",
    "print(s_list[0:5])"
   ]
  },
  {
   "cell_type": "code",
   "execution_count": 10,
   "id": "126ee3e9-f06e-42c6-a312-f4ec8e07011b",
   "metadata": {},
   "outputs": [
    {
     "name": "stdout",
     "output_type": "stream",
     "text": [
      "[[5, 6], [7, 8]]\n",
      "6\n"
     ]
    }
   ],
   "source": [
    "#Negative indexing\n",
    "f_list = [[[1,2],[3,4]],[[5,6],[7,8]]]\n",
    "s_list = [1,2,3,4,5]\n",
    "\n",
    "print(f_list[-1])\n",
    "print(f_list[-1][0][-1])"
   ]
  },
  {
   "cell_type": "code",
   "execution_count": 11,
   "id": "b338a8d2-2aa2-4c02-ae6a-e415a1ec7cd5",
   "metadata": {},
   "outputs": [
    {
     "name": "stdout",
     "output_type": "stream",
     "text": [
      "[5, 4, 3, 2, 1]\n"
     ]
    }
   ],
   "source": [
    "#Slicing\n",
    "f_list = [1,2,3,4,5]\n",
    "\n",
    "print(f_list[::-1])"
   ]
  },
  {
   "cell_type": "markdown",
   "id": "dff70c0e-017d-4a9c-8b42-fb55520c759f",
   "metadata": {},
   "source": [
    "## Adding elements into List"
   ]
  },
  {
   "cell_type": "code",
   "execution_count": null,
   "id": "7a483814-5386-4277-af4f-b3ac8b3ef8e1",
   "metadata": {},
   "outputs": [],
   "source": [
    "We can add elements to a list using the following methods:\n",
    "- append(): Using to add elements at the end of the list.\n",
    "- extend(): Using to adds multiple elements to the end of the list.\n",
    "- insert(): Using to adds an element at a specific position.\n",
    "- clear(): Using to removes all items."
   ]
  },
  {
   "cell_type": "code",
   "execution_count": 17,
   "id": "c18a832a-219b-4b40-932b-16b67c57a13a",
   "metadata": {},
   "outputs": [
    {
     "name": "stdout",
     "output_type": "stream",
     "text": [
      "After append(False): [1, 2, 4, False]\n",
      "After extend([8,10,12]): [1, 2, 4, False, 8, 10, 12]\n",
      "After insert(0,True): [True, 1, 2, 4, False, 8, 10, 12]\n",
      "After clear(): []\n"
     ]
    }
   ],
   "source": [
    "a = [1,2,4]\n",
    "\n",
    "a.append(False)\n",
    "print(\"After append(False):\",a)\n",
    "\n",
    "a.extend([8,10,12])\n",
    "print(\"After extend([8,10,12]):\",a)\n",
    "\n",
    "a.insert(0,True)\n",
    "print(\"After insert(0,True):\",a)\n",
    "\n",
    "a.clear()\n",
    "print(\"After clear():\",a)\n"
   ]
  },
  {
   "cell_type": "markdown",
   "id": "ab726c1e-9556-4967-9153-a8b72743a341",
   "metadata": {},
   "source": [
    "## Editing elements in List"
   ]
  },
  {
   "cell_type": "code",
   "execution_count": 18,
   "id": "81703fa2-f567-4077-8203-ba1a36b14c33",
   "metadata": {},
   "outputs": [
    {
     "name": "stdout",
     "output_type": "stream",
     "text": [
      "[1, 10, 3, 4, 5]\n",
      "[1, 10, 3, 120, 5]\n",
      "[1, 12, 13, 120, 5]\n"
     ]
    }
   ],
   "source": [
    "a = [ 1,2,3,4,5]\n",
    "a[1] = 10 # Editing with indexing\n",
    "print(a)\n",
    "\n",
    "a[-2] = 120 # Editing with indexing\n",
    "print(a)\n",
    "\n",
    "a[1:3] = [12,13] #Editing with slicing\n",
    "print(a)"
   ]
  },
  {
   "cell_type": "markdown",
   "id": "c295aa5f-1c7d-4562-b8a4-5f17da0e004a",
   "metadata": {},
   "source": [
    "## Removing elements from list"
   ]
  },
  {
   "cell_type": "markdown",
   "id": "698feb11-8ec2-42b7-b66a-14d2f5289723",
   "metadata": {},
   "source": [
    "We can remove elements from a list using the following methods:\n",
    "- remove(): Removes the first occurrence of an element.\n",
    "- pop(): Removes the element at a specific index or the last element if no index is specified.\n",
    "- del statement: The del statement is used to remove an item from a list based on its index.\n",
    "- clear(): The clear method is used to remove all items from the list, effectively emptying it."
   ]
  },
  {
   "cell_type": "code",
   "execution_count": 20,
   "id": "c069838a-a348-4e3e-a29f-44871c5ba014",
   "metadata": {},
   "outputs": [
    {
     "name": "stdout",
     "output_type": "stream",
     "text": [
      "[1, 2]\n"
     ]
    }
   ],
   "source": [
    "a = [1,2,3]\n",
    "\n",
    "a.remove(3)\n",
    "print(a)"
   ]
  },
  {
   "cell_type": "code",
   "execution_count": 22,
   "id": "dbb88d88-e17d-4569-a8ac-668e71e1eebc",
   "metadata": {},
   "outputs": [
    {
     "name": "stdout",
     "output_type": "stream",
     "text": [
      "[10, 20, 40]\n"
     ]
    }
   ],
   "source": [
    "a = [10,20,30,40,50]\n",
    "\n",
    "a.pop()\n",
    "a.pop(2)\n",
    "print(a)"
   ]
  },
  {
   "cell_type": "code",
   "execution_count": 24,
   "id": "635b81e0-d7dc-4baa-b4ea-b44b44aaa2fb",
   "metadata": {},
   "outputs": [
    {
     "name": "stdout",
     "output_type": "stream",
     "text": [
      "[1, 2, 3, 5]\n",
      "[1, 2]\n"
     ]
    }
   ],
   "source": [
    "a = [1,2,3,4,5]\n",
    "\n",
    "del a[3]#indexing \n",
    "print(a)\n",
    "\n",
    "del a[2:4]#slicing\n",
    "print(a)"
   ]
  },
  {
   "cell_type": "code",
   "execution_count": 25,
   "id": "ff9fa074-bd57-4c3c-ae06-7ac9fe4c0982",
   "metadata": {},
   "outputs": [
    {
     "name": "stdout",
     "output_type": "stream",
     "text": [
      "[]\n"
     ]
    }
   ],
   "source": [
    "a = [12,13,14,15]\n",
    "\n",
    "a.clear()\n",
    "print(a)"
   ]
  },
  {
   "cell_type": "code",
   "execution_count": null,
   "id": "92ed662a-c10d-42a7-9c25-84631f950b3d",
   "metadata": {},
   "outputs": [],
   "source": []
  }
 ],
 "metadata": {
  "kernelspec": {
   "display_name": "Python [conda env:base] *",
   "language": "python",
   "name": "conda-base-py"
  },
  "language_info": {
   "codemirror_mode": {
    "name": "ipython",
    "version": 3
   },
   "file_extension": ".py",
   "mimetype": "text/x-python",
   "name": "python",
   "nbconvert_exporter": "python",
   "pygments_lexer": "ipython3",
   "version": "3.13.5"
  }
 },
 "nbformat": 4,
 "nbformat_minor": 5
}
