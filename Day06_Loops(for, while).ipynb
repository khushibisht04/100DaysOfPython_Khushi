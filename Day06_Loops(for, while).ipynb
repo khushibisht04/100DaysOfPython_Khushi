{
 "cells": [
  {
   "cell_type": "markdown",
   "id": "b55a9a01-5692-4dc3-829c-cf4149dd448f",
   "metadata": {},
   "source": [
    "# LOOPS IN PYTHON"
   ]
  },
  {
   "cell_type": "markdown",
   "id": "6417f7f4-b4b8-40ca-b31a-9919f26fb1ca",
   "metadata": {},
   "source": [
    "Loops in python used to repeatedly execute a block of code.There are four types of loops in python:"
   ]
  },
  {
   "cell_type": "markdown",
   "id": "85058c09-5cd7-483f-aab0-893da39aeef5",
   "metadata": {},
   "source": [
    "- for loops\n",
    "- while loops\n",
    "- nested loops\n",
    "- loop control statements"
   ]
  },
  {
   "cell_type": "markdown",
   "id": "0044e6ea-be78-4fdd-93f8-78c6134fe5b0",
   "metadata": {},
   "source": [
    "### 1. for loops:"
   ]
  },
  {
   "cell_type": "markdown",
   "id": "e86ea51c-5c1c-4aef-92b0-0545f45dd7b6",
   "metadata": {},
   "source": [
    "for loop used to iterate over a sequence such as list,tuple,string or range and execute a block of code once for each item in the sequence."
   ]
  },
  {
   "cell_type": "code",
   "execution_count": 4,
   "id": "ee254424-8650-4844-9de5-02a72149d0bf",
   "metadata": {},
   "outputs": [
    {
     "name": "stdout",
     "output_type": "stream",
     "text": [
      "0\n",
      "1\n",
      "2\n",
      "3\n",
      "4\n",
      "5\n"
     ]
    }
   ],
   "source": [
    "#using a for loop to print numbers from 0 to 5\n",
    "n = 6\n",
    "for i in range(0,n):\n",
    "    print(i)"
   ]
  },
  {
   "cell_type": "code",
   "execution_count": 12,
   "id": "91f57dd0-3306-4921-9b63-e806259683cf",
   "metadata": {},
   "outputs": [
    {
     "name": "stdin",
     "output_type": "stream",
     "text": [
      "Enter a number:  4\n"
     ]
    },
    {
     "name": "stdout",
     "output_type": "stream",
     "text": [
      "4 x 1 = 4\n",
      "4 x 2 = 8\n",
      "4 x 3 = 12\n",
      "4 x 4 = 16\n",
      "4 x 5 = 20\n",
      "4 x 6 = 24\n",
      "4 x 7 = 28\n",
      "4 x 8 = 32\n",
      "4 x 9 = 36\n",
      "4 x 10 = 40\n"
     ]
    }
   ],
   "source": [
    "#using a for loop to print multiplication of a number \n",
    "n = int(input(\"Enter a number: \"))\n",
    "\n",
    "for i in range(1,11):\n",
    "    print(f\"{n} x {i} = {n*i}\")"
   ]
  },
  {
   "cell_type": "code",
   "execution_count": 7,
   "id": "6d20c115-4214-4de6-b316-2399c35798c6",
   "metadata": {},
   "outputs": [
    {
     "name": "stdout",
     "output_type": "stream",
     "text": [
      "0\n",
      "2\n",
      "4\n",
      "6\n",
      "8\n"
     ]
    }
   ],
   "source": [
    "#using a for loop to print numbers with difference of 2\n",
    "for i in range(0,10,2):\n",
    "    print(i)"
   ]
  },
  {
   "cell_type": "markdown",
   "id": "0a47189d-e9ed-4bee-b88c-4f4b11e703cf",
   "metadata": {},
   "source": [
    "- The step in a loop determines the increment or decrement between each consecutive value in the range,the loop iterate over the numbers from 0 to 10 with a step of 2. "
   ]
  },
  {
   "cell_type": "markdown",
   "id": "a76fe8d4-d9d2-4e4c-8764-9c707ed7033c",
   "metadata": {},
   "source": [
    "### 2. while loop"
   ]
  },
  {
   "cell_type": "markdown",
   "id": "845f4ac1-8ede-4998-ad95-d5795e537c46",
   "metadata": {},
   "source": [
    "A while loop in python used to repeatedly execute a block of code as long as specified condition is satisfie. When condition becomes false, the line immediately after the loop in the program is executed."
   ]
  },
  {
   "cell_type": "code",
   "execution_count": 14,
   "id": "782c6c93-6d99-4f7e-a305-c7e19cf79dbc",
   "metadata": {},
   "outputs": [
    {
     "name": "stdout",
     "output_type": "stream",
     "text": [
      "1\n",
      "2\n",
      "3\n",
      "4\n",
      "5\n",
      "6\n",
      "7\n",
      "8\n",
      "9\n",
      "10\n"
     ]
    }
   ],
   "source": [
    "#using a while loop to print numbers from 1 to 10\n",
    "count = 1\n",
    "while count<= 10:\n",
    "    print(count)\n",
    "    count += 1"
   ]
  },
  {
   "cell_type": "code",
   "execution_count": 11,
   "id": "0f0b363b-b34e-49bb-a01f-d16bd8acc088",
   "metadata": {},
   "outputs": [
    {
     "name": "stdin",
     "output_type": "stream",
     "text": [
      "Enter a number: 9\n"
     ]
    },
    {
     "name": "stdout",
     "output_type": "stream",
     "text": [
      "9 x 1 = 9\n",
      "9 x 2 = 18\n",
      "9 x 3 = 27\n",
      "9 x 4 = 36\n",
      "9 x 5 = 45\n",
      "9 x 6 = 54\n",
      "9 x 7 = 63\n",
      "9 x 8 = 72\n",
      "9 x 9 = 81\n",
      "9 x 10 = 90\n"
     ]
    }
   ],
   "source": [
    "#using a while loop to print multiplication of a number \n",
    "n = int(input(\"Enter a number:\"))\n",
    "\n",
    "i = 1\n",
    "\n",
    "while(i<11):\n",
    "    print(f\"{n} x {i} = {n*i}\")\n",
    "    i+= 1"
   ]
  },
  {
   "cell_type": "markdown",
   "id": "7659c417-3e3e-4440-85ff-bfddf0dac11e",
   "metadata": {},
   "source": [
    "### 3. Nested loop"
   ]
  },
  {
   "cell_type": "markdown",
   "id": "84148a40-921a-458a-a0d4-cb6a3683d015",
   "metadata": {},
   "source": [
    "In python, nested loop allows to use one loop inside another loop."
   ]
  },
  {
   "cell_type": "code",
   "execution_count": 17,
   "id": "c37d73ed-9856-4416-9183-1ea8b99bc1c0",
   "metadata": {},
   "outputs": [
    {
     "name": "stdin",
     "output_type": "stream",
     "text": [
      "Enter number of rows: 5\n"
     ]
    },
    {
     "name": "stdout",
     "output_type": "stream",
     "text": [
      "* \n",
      "* * \n",
      "* * * \n",
      "* * * * \n",
      "* * * * * \n"
     ]
    }
   ],
   "source": [
    "n = int(input(\"Enter number of rows:\"))\n",
    "\n",
    "for i in range(1, n+1):\n",
    "    for j in range(i):\n",
    "        print(\"*\", end = \" \")\n",
    "    print()    "
   ]
  },
  {
   "cell_type": "markdown",
   "id": "12df7a70-0f23-4530-b6ce-0cde07d01880",
   "metadata": {},
   "source": [
    "### 4.loops control statements"
   ]
  },
  {
   "cell_type": "markdown",
   "id": "21a8b9f6-ec78-403c-b8f0-b0e81b396903",
   "metadata": {},
   "source": [
    "In addition to basic loops, Python provides loop control statements that allows you to customize loop behaviour:\n",
    "- Break statement : In python,It brings control out of the loop.\n",
    "- Continue statement : skips the rest of the current iteration and proceeds to the next iteration of the loop.\n",
    "- Else Clause statement : can be used with a for or while loop to specify a block of code that will be executed after the loop has finished normally(i.e, without hittig a break statement)."
   ]
  },
  {
   "cell_type": "markdown",
   "id": "8c79b579-f947-419c-87b6-957d55cba0bc",
   "metadata": {},
   "source": [
    "#### Break and Continue statement"
   ]
  },
  {
   "cell_type": "code",
   "execution_count": 19,
   "id": "f451c0a2-c62c-4bd0-bd28-239cfbc748d8",
   "metadata": {},
   "outputs": [
    {
     "name": "stdin",
     "output_type": "stream",
     "text": [
      "Enter a number: 10\n"
     ]
    },
    {
     "name": "stdout",
     "output_type": "stream",
     "text": [
      "1\n",
      "2\n",
      "3\n",
      "4\n",
      "Loop ended\n"
     ]
    }
   ],
   "source": [
    "#using break \n",
    "n = int(input(\"Enter a number:\"))\n",
    "\n",
    "for num in range(1,n+1):\n",
    "    if num == 5:\n",
    "        break\n",
    "    print(num)\n",
    "\n",
    "print(\"Loop ended\")"
   ]
  },
  {
   "cell_type": "code",
   "execution_count": 22,
   "id": "14142ea8-1eca-4719-a0d7-1e44b599630e",
   "metadata": {},
   "outputs": [
    {
     "name": "stdin",
     "output_type": "stream",
     "text": [
      "Enter a number: 7\n"
     ]
    },
    {
     "name": "stdout",
     "output_type": "stream",
     "text": [
      "1\n",
      "2\n",
      "3\n",
      "4\n",
      "6\n",
      "7\n",
      "Loop ended\n"
     ]
    }
   ],
   "source": [
    "#using continue\n",
    "n = int(input(\"Enter a number:\"))\n",
    "\n",
    "for num in range(1,n+1):\n",
    "    if num == 5:\n",
    "        continue\n",
    "    print(num)\n",
    "\n",
    "print(\"Loop ended\")"
   ]
  },
  {
   "cell_type": "code",
   "execution_count": 23,
   "id": "b3f4effc-8d60-4196-9ed8-6299f3a65687",
   "metadata": {},
   "outputs": [
    {
     "name": "stdin",
     "output_type": "stream",
     "text": [
      "Enter a number: 10\n"
     ]
    },
    {
     "name": "stdout",
     "output_type": "stream",
     "text": [
      "1\n",
      "2\n",
      "3\n",
      "4\n",
      "6\n",
      "Loop ended\n"
     ]
    }
   ],
   "source": [
    "# using continue and break\n",
    "n = int(input(\"Enter a number:\"))\n",
    "\n",
    "for num in range(1,n+1):\n",
    "    if num == 5:\n",
    "        continue\n",
    "    elif num == 7:\n",
    "        break\n",
    "    print(num)\n",
    "\n",
    "print(\"Loop ended\")"
   ]
  },
  {
   "cell_type": "markdown",
   "id": "8d329c65-9299-4692-b93d-251ea6f2be32",
   "metadata": {},
   "source": [
    "#### while loop with else"
   ]
  },
  {
   "cell_type": "code",
   "execution_count": 25,
   "id": "66d1e376-4c76-4df9-890f-b63b4a06599a",
   "metadata": {},
   "outputs": [
    {
     "name": "stdout",
     "output_type": "stream",
     "text": [
      "1\n",
      "2\n",
      "limit crossed\n"
     ]
    }
   ],
   "source": [
    "x = 1\n",
    "\n",
    "while x<3:\n",
    "    print(x)\n",
    "    x += 1\n",
    "\n",
    "else:\n",
    "    print(\"limit crossed\")"
   ]
  },
  {
   "cell_type": "code",
   "execution_count": null,
   "id": "9e13a2d8-48ae-468c-91f8-41d0b1b8a999",
   "metadata": {},
   "outputs": [],
   "source": []
  }
 ],
 "metadata": {
  "kernelspec": {
   "display_name": "Python [conda env:base] *",
   "language": "python",
   "name": "conda-base-py"
  },
  "language_info": {
   "codemirror_mode": {
    "name": "ipython",
    "version": 3
   },
   "file_extension": ".py",
   "mimetype": "text/x-python",
   "name": "python",
   "nbconvert_exporter": "python",
   "pygments_lexer": "ipython3",
   "version": "3.13.5"
  }
 },
 "nbformat": 4,
 "nbformat_minor": 5
}
