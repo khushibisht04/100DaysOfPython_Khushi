{
 "cells": [
  {
   "cell_type": "markdown",
   "id": "1ba8454f-689f-4b8b-9b44-85f0b6134462",
   "metadata": {},
   "source": [
    "# PYTHON BASICS"
   ]
  },
  {
   "cell_type": "code",
   "execution_count": null,
   "id": "5bd04c24-7d78-4d03-ad47-2e16e005d21d",
   "metadata": {},
   "outputs": [],
   "source": [
    "#This is a comment. It will not be executed.\n",
    "print(\"Hello Khushi! Welcome to Day 1 of Python Journey.\")"
   ]
  },
  {
   "cell_type": "code",
   "execution_count": 2,
   "id": "82c008e4-c3d9-41a5-aa64-4118deae933f",
   "metadata": {},
   "outputs": [
    {
     "name": "stdout",
     "output_type": "stream",
     "text": [
      "6\n"
     ]
    }
   ],
   "source": [
    "print(3+3)"
   ]
  },
  {
   "cell_type": "code",
   "execution_count": 1,
   "id": "fb9c0161-30e8-4bea-8d75-9da8e966aea8",
   "metadata": {},
   "outputs": [
    {
     "ename": "IndentationError",
     "evalue": "unexpected indent (544819696.py, line 2)",
     "output_type": "error",
     "traceback": [
      "\u001b[1;36m  Cell \u001b[1;32mIn[1], line 2\u001b[1;36m\u001b[0m\n\u001b[1;33m    print(\"I have tab Indentation\") #Here, we faced Indentation Error because python expects it to be in the same block.\u001b[0m\n\u001b[1;37m    ^\u001b[0m\n\u001b[1;31mIndentationError\u001b[0m\u001b[1;31m:\u001b[0m unexpected indent\n"
     ]
    }
   ],
   "source": [
    "print(\"I have no Indentation.\")\n",
    "    print(\"I have tab Indentation\") #Here, we faced Indentation Error because python expects it to be in the same block."
   ]
  },
  {
   "cell_type": "markdown",
   "id": "0f1ef7a4-0aa9-4208-8337-afd3fe61a326",
   "metadata": {},
   "source": [
    "## Input And Output"
   ]
  },
  {
   "cell_type": "code",
   "execution_count": 43,
   "id": "8e62b424-e9b7-4b26-9a7e-75ef8c48f7fd",
   "metadata": {},
   "outputs": [
    {
     "name": "stdin",
     "output_type": "stream",
     "text": [
      "Enter your name:  Khushi\n"
     ]
    },
    {
     "name": "stdout",
     "output_type": "stream",
     "text": [
      "Hello, Khushi Welcome!\n"
     ]
    }
   ],
   "source": [
    "# The Input() function used to take user input and returns in the form of a string.\n",
    "name = input(\"Enter your name: \")\n",
    "print(\"Hello,\",name,\"Welcome!\")"
   ]
  },
  {
   "cell_type": "code",
   "execution_count": 25,
   "id": "86b5ce09-2e44-4b35-b620-6008965a830e",
   "metadata": {},
   "outputs": [
    {
     "name": "stdin",
     "output_type": "stream",
     "text": [
      "Enter a first number:  4\n",
      "Enter a second number:  2\n"
     ]
    },
    {
     "name": "stdout",
     "output_type": "stream",
     "text": [
      "6\n",
      "<class 'int'>\n"
     ]
    }
   ],
   "source": [
    "num1 = int(input(\"Enter a first number: \"))\n",
    "num2 = int(input(\"Enter a second number: \"))\n",
    "sum = num1 + num2\n",
    "print(sum)\n",
    "print(type(sum))"
   ]
  },
  {
   "cell_type": "markdown",
   "id": "f041f169-dd47-491f-970b-bb52d0c88db0",
   "metadata": {},
   "source": [
    "## Variables"
   ]
  },
  {
   "cell_type": "markdown",
   "id": "d7f4aa0f-e5a8-4759-ba6b-fc78b079961d",
   "metadata": {},
   "source": [
    "##### In Python, variables are containers for storing data.They can stores different datatypes like strings, integer, dictionaries, sets etc.Variables can also be used to  manipulate with the working of the program."
   ]
  },
  {
   "cell_type": "markdown",
   "id": "095880af-7c17-448f-8c54-0d77186127a7",
   "metadata": {},
   "source": [
    "##### Variables Names: In Variable names, we need to follow some rules:\n",
    "###### 1. Variable names only contains letters(a-z and A-Z), digit(0-9), and underscore(_).\n",
    "###### 2. They cannot start with a digit.\n",
    "###### 3. They are case-sensitive(myVar and MyVar are treated in different way).\n",
    "###### 4. Python have reserved keywords(eg.,if,for,while,print)which we should avoid using as variable names. "
   ]
  },
  {
   "cell_type": "code",
   "execution_count": 13,
   "id": "5e3adae2-e1ed-4899-b83b-6e4427454324",
   "metadata": {},
   "outputs": [],
   "source": [
    "age = 19\n",
    "student_id = 3456"
   ]
  },
  {
   "cell_type": "code",
   "execution_count": 1,
   "id": "7cf4cb0a-8c42-40bc-af32-5a9f5c5ba4fe",
   "metadata": {},
   "outputs": [
    {
     "ename": "SyntaxError",
     "evalue": "invalid decimal literal (3478004801.py, line 1)",
     "output_type": "error",
     "traceback": [
      "\u001b[1;36m  Cell \u001b[1;32mIn[1], line 1\u001b[1;36m\u001b[0m\n\u001b[1;33m    1age = 10 #Starts with a digit\u001b[0m\n\u001b[1;37m    ^\u001b[0m\n\u001b[1;31mSyntaxError\u001b[0m\u001b[1;31m:\u001b[0m invalid decimal literal\n"
     ]
    }
   ],
   "source": [
    "1age = 10 #Starts with a digit\n",
    "class = 12 # 'class' is a reserved keyword\n",
    "user-name = \"khushi\" #contain a hypen"
   ]
  },
  {
   "cell_type": "markdown",
   "id": "d18a4967-5a97-4adb-856a-5d07c3f0f7d4",
   "metadata": {},
   "source": [
    "##### A Variable in python assigned value to using the assignment operator'='."
   ]
  },
  {
   "cell_type": "code",
   "execution_count": 15,
   "id": "3551605d-3ece-43a7-8d9c-60831cca4fc6",
   "metadata": {},
   "outputs": [],
   "source": [
    "x = 10\n",
    "x = \"Hi\"\n",
    "y = 3.45"
   ]
  },
  {
   "cell_type": "markdown",
   "id": "72d3626b-1074-428a-a5d8-08814c34f1cb",
   "metadata": {},
   "source": [
    "## Multiple Assignments"
   ]
  },
  {
   "cell_type": "code",
   "execution_count": 16,
   "id": "b2151f68-a642-4b0a-a5db-52e20cf1ff15",
   "metadata": {},
   "outputs": [
    {
     "name": "stdout",
     "output_type": "stream",
     "text": [
      "500 500 500\n"
     ]
    }
   ],
   "source": [
    "a = b = c = 500\n",
    "print(a,b,c)"
   ]
  },
  {
   "cell_type": "markdown",
   "id": "0016b43d-421c-404e-bccb-fa28bc5b576e",
   "metadata": {},
   "source": [
    "## Types of Variables"
   ]
  },
  {
   "cell_type": "code",
   "execution_count": 18,
   "id": "e51b722f-3f4e-4c6b-9b77-f76e468e4c0e",
   "metadata": {},
   "outputs": [
    {
     "name": "stdout",
     "output_type": "stream",
     "text": [
      "<class 'int'>\n",
      "<class 'float'>\n",
      "<class 'str'>\n",
      "<class 'list'>\n",
      "<class 'bool'>\n",
      "<class 'dict'>\n"
     ]
    }
   ],
   "source": [
    "n = 7\n",
    "f = 3.14\n",
    "s = \"Hello\"\n",
    "li = [1,2,3]\n",
    "bool = False\n",
    "d = {'key':'value'}\n",
    "\n",
    "print(type(n))\n",
    "print(type(f))\n",
    "print(type(s))\n",
    "print(type(li))\n",
    "print(type(bool))\n",
    "print(type(d))"
   ]
  },
  {
   "cell_type": "markdown",
   "id": "2bef5327-9367-4a48-ada3-a128814c20eb",
   "metadata": {},
   "source": [
    "## Comments in Python"
   ]
  },
  {
   "cell_type": "markdown",
   "id": "2e99c6e2-fc07-4813-a2bc-2fab146bb7ee",
   "metadata": {},
   "source": [
    "##### Comments are used to explain notes within the code. Comments are ignored by the python interpreter during execution but useful to understand better code for the human.There we have two comments.\n",
    "##### 1. Single-line Comments: It starts with the hash symbol(#) "
   ]
  },
  {
   "cell_type": "code",
   "execution_count": 4,
   "id": "5eb1f0ce-8288-419c-a696-51fdd9e694f1",
   "metadata": {},
   "outputs": [],
   "source": [
    "#This is a single-line comment\n",
    "a = 4 #Assigning a value to 'x' "
   ]
  },
  {
   "cell_type": "markdown",
   "id": "b221b01d-2c66-4ca0-a450-47014e3b396c",
   "metadata": {},
   "source": [
    "##### 2. Multi-line Comments: It starts with triple-quotes('''or\"\"\")."
   ]
  },
  {
   "cell_type": "code",
   "execution_count": 3,
   "id": "38933e7a-dc20-4030-9b04-e79695941536",
   "metadata": {},
   "outputs": [
    {
     "name": "stdout",
     "output_type": "stream",
     "text": [
      "Multi-line comment.\n"
     ]
    }
   ],
   "source": [
    "'''This is the first line of a multi-line comment.\n",
    "This is the second line.'''\n",
    "print(\"Multi-line comment.\")"
   ]
  },
  {
   "cell_type": "markdown",
   "id": "1719406e-ab99-4f25-aa12-e97bdf16158b",
   "metadata": {},
   "source": [
    "## Type Conversion"
   ]
  },
  {
   "cell_type": "markdown",
   "id": "17b13988-8791-4105-a803-c32314931a2e",
   "metadata": {},
   "source": [
    "##### Type conversion is also called typecasting, is this process of changing the data type of a value from one type to another.The int() function converts a value to an integer data type,while the float() function converts a value to a floating-point data type. This is useful when you want to convert values between different data types such as integers, floating-point or strings."
   ]
  },
  {
   "cell_type": "code",
   "execution_count": 42,
   "id": "e5afa61d-6cf5-4381-b528-910d71ecbd3e",
   "metadata": {},
   "outputs": [
    {
     "name": "stdout",
     "output_type": "stream",
     "text": [
      "24\n",
      "24.0\n"
     ]
    }
   ],
   "source": [
    "s = \"24\"\n",
    "n = int(s)\n",
    "print(n)\n",
    "\n",
    "f = float(s)\n",
    "print(f)"
   ]
  },
  {
   "cell_type": "code",
   "execution_count": 47,
   "id": "5fef1ff1-e84c-43fc-bf15-eda565695a55",
   "metadata": {},
   "outputs": [
    {
     "ename": "TypeError",
     "evalue": "unsupported operand type(s) for +: 'int' and 'str'",
     "output_type": "error",
     "traceback": [
      "\u001b[1;31m---------------------------------------------------------------------------\u001b[0m",
      "\u001b[1;31mTypeError\u001b[0m                                 Traceback (most recent call last)",
      "Cell \u001b[1;32mIn[47], line 3\u001b[0m\n\u001b[0;32m      1\u001b[0m a \u001b[38;5;241m=\u001b[39m \u001b[38;5;241m45\u001b[39m\n\u001b[0;32m      2\u001b[0m b \u001b[38;5;241m=\u001b[39m \u001b[38;5;124m\"\u001b[39m\u001b[38;5;124m45\u001b[39m\u001b[38;5;124m\"\u001b[39m\n\u001b[1;32m----> 3\u001b[0m \u001b[38;5;28msum\u001b[39m \u001b[38;5;241m=\u001b[39m a \u001b[38;5;241m+\u001b[39m b\n\u001b[0;32m      4\u001b[0m \u001b[38;5;28mprint\u001b[39m(\u001b[38;5;28msum\u001b[39m)\n",
      "\u001b[1;31mTypeError\u001b[0m: unsupported operand type(s) for +: 'int' and 'str'"
     ]
    }
   ],
   "source": [
    "a = 45\n",
    "b = \"45\"\n",
    "sum = a + b\n",
    "print(sum)"
   ]
  },
  {
   "cell_type": "markdown",
   "id": "325398be-7217-41b6-8d5d-630454fbfe09",
   "metadata": {},
   "source": [
    "##### Here, It throws an error because we didn't add another datatype in the string datatype."
   ]
  },
  {
   "cell_type": "code",
   "execution_count": 6,
   "id": "bfa14c0c-2409-4df3-9e76-6a65598039e8",
   "metadata": {},
   "outputs": [
    {
     "name": "stdout",
     "output_type": "stream",
     "text": [
      "90\n"
     ]
    }
   ],
   "source": [
    "#This is the correct code from the above.\n",
    "a = 45\n",
    "b = \"45\"\n",
    "sum =(int(a) + int(b))\n",
    "print(sum)"
   ]
  },
  {
   "cell_type": "markdown",
   "id": "1412e97e-8dfe-41ea-b736-d2d35dd1cea4",
   "metadata": {},
   "source": [
    "## Literals"
   ]
  },
  {
   "cell_type": "markdown",
   "id": "597deda8-1d05-41ca-be4a-8fa339c0df34",
   "metadata": {},
   "source": [
    "##### Literals in python represents fixed value directly in the source code. It provides way to store raw data values that do not change during the execution of a program. Pythons supports various types of literals."
   ]
  },
  {
   "cell_type": "code",
   "execution_count": 52,
   "id": "82c255e0-207b-437d-9aec-27d0f4910c7a",
   "metadata": {},
   "outputs": [
    {
     "name": "stdout",
     "output_type": "stream",
     "text": [
      "100 5 (4+7j) (-0-9j) 8.5 12.5\n"
     ]
    }
   ],
   "source": [
    "a = 100 #Decimal Literal\n",
    "b = 0b101#Binary Literal\n",
    "\n",
    "#Complex Literal\n",
    "c = 4 + 7j \n",
    "d = -9j\n",
    "\n",
    "#Float literal\n",
    "e = 8.5\n",
    "f = 12.5\n",
    "\n",
    "print(a,b,c,d,e,f)\n"
   ]
  },
  {
   "cell_type": "code",
   "execution_count": 53,
   "id": "18f9a8a4-c6ab-4b3a-8dbd-723d60c53187",
   "metadata": {},
   "outputs": [
    {
     "name": "stdout",
     "output_type": "stream",
     "text": [
      "Python\n",
      "Literals\n",
      "This is a multi-line string\n",
      "raw \\n string\n"
     ]
    }
   ],
   "source": [
    "# String literals\n",
    "a = 'Python' #single-quoted\n",
    "b = \"Literals\" # Double quoted\n",
    "c = '''This is a multi-line string''' # Triple-quoted\n",
    "raw_str = r\"raw \\n string\"\n",
    "\n",
    "print(a)\n",
    "print(b)\n",
    "print(c)\n",
    "print(raw_str)\n"
   ]
  },
  {
   "cell_type": "code",
   "execution_count": null,
   "id": "c3ebbf67-36b6-42ca-8431-b506c86ca29a",
   "metadata": {},
   "outputs": [],
   "source": []
  }
 ],
 "metadata": {
  "kernelspec": {
   "display_name": "Python [conda env:base] *",
   "language": "python",
   "name": "conda-base-py"
  },
  "language_info": {
   "codemirror_mode": {
    "name": "ipython",
    "version": 3
   },
   "file_extension": ".py",
   "mimetype": "text/x-python",
   "name": "python",
   "nbconvert_exporter": "python",
   "pygments_lexer": "ipython3",
   "version": "3.13.5"
  }
 },
 "nbformat": 4,
 "nbformat_minor": 5
}
