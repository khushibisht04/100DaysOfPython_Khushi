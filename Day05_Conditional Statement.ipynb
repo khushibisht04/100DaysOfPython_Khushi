{
 "cells": [
  {
   "cell_type": "markdown",
   "id": "0ad02dc6-1939-4aa4-bbc7-8141d8efa0f3",
   "metadata": {},
   "source": [
    "# CONDITIONAL STATEMENTS"
   ]
  },
  {
   "cell_type": "markdown",
   "id": "680807e2-36d4-43b1-8722-69e4581c6ab5",
   "metadata": {},
   "source": [
    "In python, Conditional statements allow for decision-making within a program and execute different blocks of code based on whether a given condition true or false.They help control the flow of a program,making it behave differently in different situations.\n",
    "The main keywords used in conditional statements are if,elif(short of else if), and else."
   ]
  },
  {
   "cell_type": "markdown",
   "id": "889de771-dd3f-48ef-b848-6ba64c6ab39f",
   "metadata": {},
   "source": [
    "## If-Elif-Else"
   ]
  },
  {
   "cell_type": "code",
   "execution_count": null,
   "id": "9210f5d7-b0fe-4a65-9b09-9287a57dbd86",
   "metadata": {},
   "outputs": [],
   "source": [
    "#If conditional:\n",
    "    #Code to execute if conditional is True\n",
    "#elif condition2:\n",
    "    #Code to execute if conditional is False and condition2 is True\n",
    "#else:\n",
    "    #Code to execute if both conditional and condition2 are False\n",
    "    "
   ]
  },
  {
   "cell_type": "markdown",
   "id": "99be5e55-b8dd-4db6-bbbe-bf7cc978f5f9",
   "metadata": {},
   "source": [
    "In this following example,if x is greater than 18, the first block is executed. If x is exactly 18,the second block is executed.Otherwise, if x is less than 18, the third block is executed."
   ]
  },
  {
   "cell_type": "code",
   "execution_count": 5,
   "id": "0d1847e0-17e3-4e53-a250-f5d1f13373e0",
   "metadata": {},
   "outputs": [
    {
     "name": "stdin",
     "output_type": "stream",
     "text": [
      "Enter your age: 25\n"
     ]
    },
    {
     "name": "stdout",
     "output_type": "stream",
     "text": [
      "You are eligible to vote\n"
     ]
    }
   ],
   "source": [
    "x = int(input(\"Enter your age:\"))\n",
    "\n",
    "#if age is greater than 18, eligible to vote\n",
    "if x>18:\n",
    "    print(\"You are eligible to vote\")\n",
    "#if age is exactly 18,still eligible to vote    \n",
    "elif x==18:\n",
    "    print(\"You are eligible to vote\")\n",
    "#if age is less than 18, not eligible to vote    \n",
    "else:             \n",
    "    print(\"You are not eligible to vote\")              "
   ]
  },
  {
   "cell_type": "markdown",
   "id": "521bddee-f70e-43f9-910d-14f55416e38d",
   "metadata": {},
   "source": [
    "Another Example:"
   ]
  },
  {
   "cell_type": "code",
   "execution_count": null,
   "id": "f9f7f8fa-9daf-4048-a097-f02c44ace316",
   "metadata": {},
   "outputs": [],
   "source": [
    "marks = int(input(\"Enter your marks:\"))\n",
    "\n",
    "if(marks<=100 and marks>=90):\n",
    "    grade = \"Excellent\"\n",
    "elif(marks<90 and marks>=80):\n",
    "    grade = \"A\"\n",
    "elif(marks<80 and marks>=70):\n",
    "    grade = \"B\"\n",
    "elif(marks<70 and marks>=60):\n",
    "    grade =\"C\"\n",
    "elif(marks<60 and marks>=50):\n",
    "    grade =\"D\"\n",
    "elif(marks<50):\n",
    "    grade = \"F\"\n",
    "\n",
    "print(\"Your grade is:\",grade)"
   ]
  },
  {
   "cell_type": "markdown",
   "id": "c035048e-9837-4f0a-a7de-e7930ef92592",
   "metadata": {},
   "source": [
    "## Nested if-else statement"
   ]
  },
  {
   "cell_type": "markdown",
   "id": "97564474-4209-46d9-bf23-2e0996556651",
   "metadata": {},
   "source": [
    "Nested if-else statements in python allows you to place one if or if-else statement inside another.This allows for more complex conditional logic, where the evaluation of an inner condition depends on the result of an outer condition. "
   ]
  },
  {
   "cell_type": "code",
   "execution_count": 11,
   "id": "c4daf4e9-0404-4218-9368-2f8135258c4b",
   "metadata": {},
   "outputs": [
    {
     "name": "stdout",
     "output_type": "stream",
     "text": [
      "x is greater than 9\n",
      "y is also greater than 5\n"
     ]
    }
   ],
   "source": [
    "x = 45\n",
    "y = 9\n",
    "\n",
    "if x>9:\n",
    "    print(\"x is greater than 9\")\n",
    "    if y > 5:\n",
    "        print(\"y is also greater than 5\")\n",
    "    else:\n",
    "        print(\"y is not greater than 5\" )\n",
    "else:\n",
    "    print(\"x is not greater than 9\")"
   ]
  },
  {
   "cell_type": "code",
   "execution_count": null,
   "id": "bebe1b05-37ae-4d4f-bcc6-d5f486e5d917",
   "metadata": {},
   "outputs": [],
   "source": []
  }
 ],
 "metadata": {
  "kernelspec": {
   "display_name": "Python 3 (ipykernel)",
   "language": "python",
   "name": "python3"
  },
  "language_info": {
   "codemirror_mode": {
    "name": "ipython",
    "version": 3
   },
   "file_extension": ".py",
   "mimetype": "text/x-python",
   "name": "python",
   "nbconvert_exporter": "python",
   "pygments_lexer": "ipython3",
   "version": "3.13.5"
  }
 },
 "nbformat": 4,
 "nbformat_minor": 5
}
