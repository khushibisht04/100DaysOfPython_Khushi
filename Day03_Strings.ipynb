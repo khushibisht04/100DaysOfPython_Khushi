{
 "cells": [
  {
   "cell_type": "markdown",
   "id": "f32e368b-0344-4b73-a9c8-07d44ecdef9a",
   "metadata": {},
   "source": [
    "# Strings"
   ]
  },
  {
   "cell_type": "markdown",
   "id": "d5d3bc1e-cd96-4309-85dd-05af59d215c0",
   "metadata": {},
   "source": [
    "String is the sequence of characters which enclosed in qoutes.It can be enclosed by either single quotes or double quotes.It used to represent text data.It is immutable, means once a string is created it can not be changed.It also includes letters,numbers, symbols or spaces \n"
   ]
  },
  {
   "cell_type": "markdown",
   "id": "216c2185-8ddc-40b2-a1a6-c327fec9265b",
   "metadata": {},
   "source": [
    "## 1.Creating in String"
   ]
  },
  {
   "cell_type": "code",
   "execution_count": 1,
   "id": "56bb0fe8-e76c-42f0-8fae-a6206b0b5e76",
   "metadata": {},
   "outputs": [
    {
     "name": "stdout",
     "output_type": "stream",
     "text": [
      "Hello,Strings\n",
      "Hello,Strings\n"
     ]
    }
   ],
   "source": [
    "#Creating single quote string\n",
    "a = 'Hello,Strings'\n",
    "#Creating double quote string\n",
    "b = \"Hello,Strings\"\n",
    "print(a)\n",
    "print(b)"
   ]
  },
  {
   "cell_type": "code",
   "execution_count": 2,
   "id": "248a4975-3946-47f0-8177-f07995c65c92",
   "metadata": {},
   "outputs": [
    {
     "name": "stdout",
     "output_type": "stream",
     "text": [
      "I'm learning\n",
      "python\n",
      "I'm learning\n",
      "python\n"
     ]
    }
   ],
   "source": [
    "#creating multi-line strings\n",
    "a = \"\"\"I'm learning\n",
    "python\"\"\"\n",
    "print(a)\n",
    "b = '''I'm learning\n",
    "python'''\n",
    "print(b)"
   ]
  },
  {
   "cell_type": "markdown",
   "id": "d60a560f-6b03-4602-9de8-cb36965b57a0",
   "metadata": {},
   "source": [
    "## 2.Accessing Values in string"
   ]
  },
  {
   "cell_type": "markdown",
   "id": "186af091-a7af-4126-90fe-784e8615de87",
   "metadata": {},
   "source": [
    "### Indexing"
   ]
  },
  {
   "cell_type": "markdown",
   "id": "9258c25a-3281-4d00-9bfd-ba1bb6a51266",
   "metadata": {},
   "source": [
    "Indexing is the process of accessing elements or characters within a sequence, such as a string. By using indexing, we can access specific characters in a string in a sequential order. Indexing starts from 0, which means the first element in a sequence is at position 0, the second element is at position 1, and so on. Each next element’s position increases by +1 from the previous one. This process continues until all elements are assigned a position.\n",
    "\n",
    "There are two types of indexing: Positive Indexing And Negative Indexing"
   ]
  },
  {
   "cell_type": "code",
   "execution_count": 3,
   "id": "6924202e-7260-4a3a-b5db-75bf3a19fbfc",
   "metadata": {},
   "outputs": [
    {
     "name": "stdout",
     "output_type": "stream",
     "text": [
      "t\n",
      "r\n"
     ]
    }
   ],
   "source": [
    "#positive indexing\n",
    "s = \"Strings\"\n",
    "#Accessing an character using positive indexing:\n",
    "print(s[1])\n",
    "print(s[2])"
   ]
  },
  {
   "cell_type": "code",
   "execution_count": 4,
   "id": "68e650a5-e944-425a-8784-08aafa42ab02",
   "metadata": {},
   "outputs": [
    {
     "name": "stdout",
     "output_type": "stream",
     "text": [
      "s\n",
      "g\n"
     ]
    }
   ],
   "source": [
    "#Accessing an character using negative indexing:\n",
    "print(s[-1])\n",
    "print(s[-2])"
   ]
  },
  {
   "cell_type": "markdown",
   "id": "5bf00d86-2db7-41c8-8911-bb5a680fc9d6",
   "metadata": {},
   "source": [
    "### Slicing"
   ]
  },
  {
   "cell_type": "markdown",
   "id": "adfc5cd2-40f2-44c7-b7d3-843ca3f128e5",
   "metadata": {},
   "source": [
    "Slicing is the process to extract a portion of a sequence by specifying a starting and ending index such as a string, list or tuple. "
   ]
  },
  {
   "cell_type": "code",
   "execution_count": null,
   "id": "8c93093c-d088-45e4-9060-d6bd36b75db8",
   "metadata": {},
   "outputs": [],
   "source": [
    "#Syntax:\n",
    "#sequence[start:end:step]"
   ]
  },
  {
   "cell_type": "markdown",
   "id": "41252095-c63f-4951-be4e-be4d8b0b450b",
   "metadata": {},
   "source": [
    "1. Start:- start index is the index of the first element where slicing begins.\n",
    "2. end := End index is the index of the last element where slicing ends.\n",
    "3. step:- Step index used in slicing operations for sequences.the increment between elements selected."
   ]
  },
  {
   "cell_type": "code",
   "execution_count": 7,
   "id": "a57f8d55-c9f6-4edb-b423-2ae4588c8d87",
   "metadata": {},
   "outputs": [
    {
     "name": "stdout",
     "output_type": "stream",
     "text": [
      "ello,\n",
      "Hello,\n",
      "lo,World!\n",
      "orl\n",
      "Hello,World!\n"
     ]
    }
   ],
   "source": [
    "my_str = \"Hello,World!\"\n",
    "s1 = my_str[1:6] # from index 1 to index 5\n",
    "s2 = my_str[:6] #from index 0 to 5\n",
    "s3 = my_str[3:] #from 3 to all\n",
    "s4 = my_str[-5:-2] #with negative slicing\n",
    "s5 = my_str[:] #all string\n",
    "print(s1)\n",
    "print(s2)\n",
    "print(s3)\n",
    "print(s4)\n",
    "print(s5)"
   ]
  },
  {
   "cell_type": "code",
   "execution_count": 9,
   "id": "798ef684-6ffc-4417-94e6-bbe45feabb71",
   "metadata": {},
   "outputs": [
    {
     "name": "stdout",
     "output_type": "stream",
     "text": [
      "wol\n",
      "dlrow olleH\n"
     ]
    }
   ],
   "source": [
    "#step function\n",
    "s = \"Hello world\"\n",
    "print(s[6:0:-2])\n",
    "print(s[::-1])     "
   ]
  },
  {
   "cell_type": "markdown",
   "id": "9c93cdda-0883-4f4c-879b-5843d5b1b6df",
   "metadata": {},
   "source": [
    "## 3. Editing and Deleting in strings "
   ]
  },
  {
   "cell_type": "markdown",
   "id": "fb3e6a82-a372-4c8b-932b-f113d91537f3",
   "metadata": {},
   "source": [
    "In editing, you can substitue a charachte or a substring with another.\n",
    "In deleting, you can delete characters from a string through using techniques."
   ]
  },
  {
   "cell_type": "code",
   "execution_count": 12,
   "id": "dfcc241e-c71b-4a70-82da-600fd837c1b9",
   "metadata": {},
   "outputs": [
    {
     "name": "stdout",
     "output_type": "stream",
     "text": [
      "Hexxo\n"
     ]
    }
   ],
   "source": [
    "#Editing in string\n",
    "my_str =\"Hello\"\n",
    "new_str = my_str.replace(\"l\",\"x\")\n",
    "print(new_str)"
   ]
  },
  {
   "cell_type": "code",
   "execution_count": 13,
   "id": "200c184a-99e4-43bd-a833-a27224d607da",
   "metadata": {},
   "outputs": [
    {
     "name": "stdout",
     "output_type": "stream",
     "text": [
      "Heo word\n"
     ]
    }
   ],
   "source": [
    "s1 = \"Hello world\"\n",
    "s2 = s1.replace(\"l\",\"\")# removes all 'l'\n",
    "print(s2)"
   ]
  },
  {
   "cell_type": "code",
   "execution_count": null,
   "id": "9014d837-cd64-487a-91e6-ab3885b47141",
   "metadata": {},
   "outputs": [],
   "source": []
  }
 ],
 "metadata": {
  "kernelspec": {
   "display_name": "Python [conda env:base] *",
   "language": "python",
   "name": "conda-base-py"
  },
  "language_info": {
   "codemirror_mode": {
    "name": "ipython",
    "version": 3
   },
   "file_extension": ".py",
   "mimetype": "text/x-python",
   "name": "python",
   "nbconvert_exporter": "python",
   "pygments_lexer": "ipython3",
   "version": "3.13.5"
  }
 },
 "nbformat": 4,
 "nbformat_minor": 5
}
