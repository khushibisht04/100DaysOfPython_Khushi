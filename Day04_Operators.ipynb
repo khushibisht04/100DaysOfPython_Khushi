{
 "cells": [
  {
   "cell_type": "markdown",
   "id": "ccc7caec-a505-48d3-8c1c-2b62767d11ab",
   "metadata": {},
   "source": [
    "# OPERATORS"
   ]
  },
  {
   "cell_type": "markdown",
   "id": "e7c2b6c7-d8f2-4c45-811c-c9c8d1491530",
   "metadata": {},
   "source": [
    "In python, Operators are speacial symbols or keywords like -,+,*,/,etc. Operator perform operations in the value called operands. "
   ]
  },
  {
   "cell_type": "markdown",
   "id": "ca6fdbcd-23ba-45db-b33c-450b3af36383",
   "metadata": {},
   "source": [
    "## Types of Operators"
   ]
  },
  {
   "cell_type": "markdown",
   "id": "40155302-6d9f-4252-8686-f755102f7abd",
   "metadata": {},
   "source": [
    "### 1.Arithmetic Operator"
   ]
  },
  {
   "cell_type": "markdown",
   "id": "e8ff7fbf-a46d-4275-8a29-39148a5d8260",
   "metadata": {},
   "source": [
    "- Addition(+)\n",
    "- Subtraction(-)\n",
    "- Multiplication(*)\n",
    "- Division(/)\n",
    "- Floor Division(//)\n",
    "- Modulus(%)\n",
    "- Exponentiation(**)"
   ]
  },
  {
   "cell_type": "code",
   "execution_count": 4,
   "id": "b0cb9ec4-8996-4e32-b0a0-c63233b82962",
   "metadata": {},
   "outputs": [
    {
     "name": "stdout",
     "output_type": "stream",
     "text": [
      "Addition: 22\n",
      "Subtraction: 8\n",
      "Multiplication: 105\n",
      "Division: 2.142857142857143\n",
      "Floor Division: 2\n",
      "Modulus: 1\n",
      "Exponentiation: 170859375\n"
     ]
    }
   ],
   "source": [
    "x = 15 \n",
    "y = 7\n",
    "\n",
    "print(\"Addition:\", x + y)\n",
    "print(\"Subtraction:\", x-y)\n",
    "print(\"Multiplication:\", x*y)\n",
    "print(\"Division:\",x/y)\n",
    "print(\"Floor Division:\",x//y)\n",
    "print(\"Modulus:\", x%y)\n",
    "print(\"Exponentiation:\", x**y)"
   ]
  },
  {
   "cell_type": "markdown",
   "id": "64a77ac9-b8a3-4b6f-bea5-7fdb39e666c7",
   "metadata": {},
   "source": [
    "### 2.Comparison Operators"
   ]
  },
  {
   "cell_type": "markdown",
   "id": "f371a807-ba02-45dd-89d3-8fd6c5ad225c",
   "metadata": {},
   "source": [
    "Comparison operators are used to compares values and return a result of either true or false."
   ]
  },
  {
   "cell_type": "markdown",
   "id": "5313220c-5d62-4586-a3f3-7c77ca090bd9",
   "metadata": {},
   "source": [
    "- Equal to(==)\n",
    "- Not equal to (!=)\n",
    "- Greater than(>)\n",
    "- Less than(<)\n",
    "- Greater than or equal to(>=)\n",
    "- Less than or equal to(<=)"
   ]
  },
  {
   "cell_type": "code",
   "execution_count": 5,
   "id": "5ee5e0c7-e565-4f7a-aed6-0025ce4edf86",
   "metadata": {},
   "outputs": [
    {
     "name": "stdout",
     "output_type": "stream",
     "text": [
      "False\n",
      "True\n",
      "True\n",
      "False\n",
      "True\n",
      "False\n"
     ]
    }
   ],
   "source": [
    "x = 45\n",
    "y = 12\n",
    "\n",
    "print(x == y) #Equal to\n",
    "print(x != y)# Not equal to\n",
    "print(x > y)# Greater than\n",
    "print(x < y)#less than\n",
    "print(x >= y)# Greater than or equal to\n",
    "print(x <= y)# Less than or equal to\n"
   ]
  },
  {
   "cell_type": "markdown",
   "id": "d7c0a1b3-dee4-441f-ab78-d52dae703804",
   "metadata": {},
   "source": [
    "### 3. Logical operators"
   ]
  },
  {
   "cell_type": "markdown",
   "id": "9e901d9e-a053-44b8-ae0b-3950b17e6592",
   "metadata": {},
   "source": [
    "- Logical NOT\n",
    "- Logical AND\n",
    "- Logical OR"
   ]
  },
  {
   "cell_type": "code",
   "execution_count": 8,
   "id": "cbe344d8-378c-49a5-b6a5-1639011a0343",
   "metadata": {},
   "outputs": [
    {
     "name": "stdout",
     "output_type": "stream",
     "text": [
      "True\n",
      "False\n",
      "True\n"
     ]
    }
   ],
   "source": [
    "x = True\n",
    "y = False\n",
    "\n",
    "print( not y) #Logical NOT\n",
    "print(x and y )#Logical AND\n",
    "print(x or y)#Logical OR"
   ]
  },
  {
   "cell_type": "markdown",
   "id": "865c7246-4e7c-4413-acb7-7db1c1a2c2af",
   "metadata": {},
   "source": [
    "### 4.Bitwise Operators"
   ]
  },
  {
   "cell_type": "markdown",
   "id": "4de6bdb7-86fb-4224-8c2d-35682f1e4472",
   "metadata": {},
   "source": [
    "- Bitwise AND(&)\n",
    "- Bitwise OR(|)\n",
    "- Bitwise XOR(^)\n",
    "- Bitwise NOT(~)\n",
    "- Left shift(<<)\n",
    "- Right shift(>>)"
   ]
  },
  {
   "cell_type": "code",
   "execution_count": 10,
   "id": "b2640cc7-00b7-41e3-bac2-e54c0b4f5dd9",
   "metadata": {},
   "outputs": [
    {
     "name": "stdout",
     "output_type": "stream",
     "text": [
      "4\n",
      "14\n",
      "10\n",
      "-15\n",
      "224\n",
      "0\n"
     ]
    }
   ],
   "source": [
    "x = 14\n",
    "y = 4\n",
    "\n",
    "print(x & y)#Bitwise AND(&)\n",
    "print(x|y)#Bitwise OR(|)\n",
    "print(x^y)#Bitwise XOR(^)\n",
    "print(~x)#Bitwise NOT(~)\n",
    "print(x << y)#Left shift(<<)\n",
    "print(x >> y)#Right shift(>>)"
   ]
  },
  {
   "cell_type": "markdown",
   "id": "c07138f1-1faa-4171-a4bd-ed6064acd538",
   "metadata": {},
   "source": [
    "### 5.Assignment operators"
   ]
  },
  {
   "cell_type": "markdown",
   "id": "607ace97-f86a-4ab2-b0c4-ca3c498eec64",
   "metadata": {},
   "source": [
    "Assigment Operators used to assign values to the variables."
   ]
  },
  {
   "cell_type": "markdown",
   "id": "4803fa02-05c2-4fac-bb7c-800f6da74507",
   "metadata": {},
   "source": [
    "- Assignment(=)\n",
    "- Add and Assign(+=)\n",
    "- Subtract and Assign(-=)\n",
    "- Multiply and Assign(*=)\n",
    "- Divide and Assign(/=)\n",
    "- Floor Divide and Assign(//=)\n",
    "- Modulus and Assign (%=)\n",
    "- Exponentiation and Assign(**=)\n"
   ]
  },
  {
   "cell_type": "code",
   "execution_count": 11,
   "id": "d357c016-5932-4961-a1eb-a81ec42aa7d8",
   "metadata": {},
   "outputs": [
    {
     "name": "stdout",
     "output_type": "stream",
     "text": [
      "4\n",
      "8\n",
      "4\n",
      "16\n",
      "4.0\n",
      "1.0\n",
      "1.0\n",
      "1.0\n"
     ]
    }
   ],
   "source": [
    "x = 4\n",
    "x = y\n",
    "print(y)\n",
    "\n",
    "y+= x\n",
    "print(y)\n",
    "\n",
    "y-=x\n",
    "print(y)\n",
    "\n",
    "y*=x\n",
    "print(y)\n",
    "\n",
    "y/=x\n",
    "print(y)\n",
    "\n",
    "y//=x\n",
    "print(y)\n",
    "\n",
    "y%=x\n",
    "print(y)\n",
    "\n",
    "y**=x\n",
    "print(y)"
   ]
  },
  {
   "cell_type": "code",
   "execution_count": null,
   "id": "ba84f7ca-bcce-4f23-8791-2b6ba5d803b0",
   "metadata": {},
   "outputs": [],
   "source": []
  }
 ],
 "metadata": {
  "kernelspec": {
   "display_name": "Python [conda env:base] *",
   "language": "python",
   "name": "conda-base-py"
  },
  "language_info": {
   "codemirror_mode": {
    "name": "ipython",
    "version": 3
   },
   "file_extension": ".py",
   "mimetype": "text/x-python",
   "name": "python",
   "nbconvert_exporter": "python",
   "pygments_lexer": "ipython3",
   "version": "3.13.5"
  }
 },
 "nbformat": 4,
 "nbformat_minor": 5
}
